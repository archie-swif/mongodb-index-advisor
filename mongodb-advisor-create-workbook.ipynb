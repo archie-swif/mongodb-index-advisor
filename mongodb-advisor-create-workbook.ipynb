{
 "cells": [
  {
   "metadata": {},
   "cell_type": "code",
   "source": [
    "database_values = {\n",
    "    \"cluster_name\": \"echo\",\n",
    "    \"database_name\": \"sample_mflix\",\n",
    "    \"collection_name\": \"movies\",\n",
    "}\n",
    "\n",
    "queries = [\n",
    "    {\n",
    "        \"query_hash\": \"#C0FFEE\",\n",
    "        \"query_example\": 'db.find({\"_id\": \"test\"})',\n",
    "        \"query_index\": '{} #TODO COLLSCAN',\n",
    "        \"query_short_description\": \"Find a record by primary key\",\n",
    "        \"query_details\": \"This is an example query\",\n",
    "\n",
    "    },\n",
    "    {\n",
    "        \"query_hash\": \"#BEBEBE\",\n",
    "        \"query_example\": '[{\"$match\": {\"_id\": \"test\",}}]',\n",
    "        \"query_index\": '{\"_id\": 1}',\n",
    "        \"query_short_description\": \"AI generated description\",\n",
    "        \"query_details\": \"\",\n",
    "    }\n",
    "]"
   ],
   "id": "cce9a567c2171b3f",
   "outputs": [],
   "execution_count": null
  },
  {
   "metadata": {},
   "cell_type": "code",
   "source": [
    "import nbformat\n",
    "from string import Template\n",
    "\n",
    "TEMPLATE_PATH = \"mongodb-advisor-template.ipynb\"  # Your existing template\n",
    "\n",
    "def create_notebooks_from_query_stats(notebook_name, database_values, queries):\n",
    "    with open(TEMPLATE_PATH, \"r\") as f:\n",
    "        nb = nbformat.read(f, as_version=nbformat.NO_CONVERT)\n",
    "\n",
    "    namespace_cell = nb.cells[1]\n",
    "    namespace_cell.source = Template(namespace_cell.source).safe_substitute(database_values)\n",
    "\n",
    "    query_description_cell = nb.cells[14].source\n",
    "    query_code_cell = nb.cells[15].source\n",
    "    del nb.cells[14:16]\n",
    "\n",
    "    for query in queries:\n",
    "        description = Template(query_description_cell).safe_substitute(query)\n",
    "        code = Template(query_code_cell).safe_substitute(query)\n",
    "        nb.cells.insert(14, nbformat.v4.new_code_cell(code))\n",
    "        nb.cells.insert(14, nbformat.v4.new_markdown_cell(description))\n",
    "\n",
    "    with open(f\"{notebook_name}.ipynb\", \"w\") as f:\n",
    "        nbformat.write(nb, f)\n"
   ],
   "id": "8c234ca2962d1733",
   "outputs": [],
   "execution_count": null
  }
 ],
 "metadata": {
  "kernelspec": {
   "display_name": "Python 3",
   "language": "python",
   "name": "python3"
  },
  "language_info": {
   "codemirror_mode": {
    "name": "ipython",
    "version": 2
   },
   "file_extension": ".py",
   "mimetype": "text/x-python",
   "name": "python",
   "nbconvert_exporter": "python",
   "pygments_lexer": "ipython2",
   "version": "2.7.6"
  }
 },
 "nbformat": 4,
 "nbformat_minor": 5
}
