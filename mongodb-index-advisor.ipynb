{
 "cells": [
  {
   "metadata": {
    "ExecuteTime": {
     "end_time": "2025-02-07T02:17:43.115734Z",
     "start_time": "2025-02-07T02:17:43.110303Z"
    }
   },
   "cell_type": "code",
   "source": [
    "# Specify cluster name, connect to a specific database\n",
    "cluster_name = \"echo\"\n",
    "database_name = \"sample_mflix\"\n",
    "collection_name = \"movies\""
   ],
   "id": "da57151f73828656",
   "outputs": [],
   "execution_count": 37
  },
  {
   "cell_type": "code",
   "id": "cb01c79c57053f7f",
   "metadata": {
    "ExecuteTime": {
     "end_time": "2025-02-07T02:17:43.444280Z",
     "start_time": "2025-02-07T02:17:43.122377Z"
    }
   },
   "source": [
    "# Init\n",
    "import json\n",
    "import os\n",
    "\n",
    "import requests\n",
    "from IPython.core.display import Markdown\n",
    "# https://github.com/anthropics/anthropic-sdk-python\n",
    "from anthropic import Anthropic\n",
    "from bs4 import BeautifulSoup\n",
    "from dotenv import load_dotenv\n",
    "from pymongo.mongo_client import MongoClient\n",
    "\n",
    "# Load env variables for MongoDB Atlas CLI, MongoDB database client and Anthropic client\n",
    "load_dotenv()\n",
    "uri = os.getenv(\"MONGO_URI\")\n",
    "\n",
    "# Create MongoBD Client, point to a specific database/collection\n",
    "mongodb_client = MongoClient(uri)\n",
    "namespace = database_name + \".\" + collection_name\n",
    "db = mongodb_client[database_name][collection_name]\n",
    "\n",
    "# Create Anthropic client\n",
    "anthropic_client = Anthropic()\n",
    "base_context = []"
   ],
   "outputs": [],
   "execution_count": 38
  },
  {
   "metadata": {},
   "cell_type": "markdown",
   "source": "## MongoDB Context",
   "id": "f9d92c0240611e81"
  },
  {
   "metadata": {
    "ExecuteTime": {
     "end_time": "2025-02-07T02:17:43.453129Z",
     "start_time": "2025-02-07T02:17:43.451036Z"
    }
   },
   "cell_type": "code",
   "source": [
    "docs = [\n",
    "    \"https://www.mongodb.com/docs/manual/core/query-optimization/\",\n",
    "    \"https://www.mongodb.com/docs/manual/tutorial/equality-sort-range-rule/\",\n",
    "    \"https://www.mongodb.com/docs/manual/core/index-partial/\",\n",
    "    \"https://www.mongodb.com/docs/manual/reference/explain-results/\",\n",
    "    \"https://www.mongodb.com/docs/manual/tutorial/analyze-query-plan/\",\n",
    "    \"https://www.mongodb.com/docs/manual/tutorial/optimize-query-performance-with-indexes-and-projections/\",\n",
    "    \"https://www.mongodb.com/docs/atlas/performance-advisor/\",\n",
    "    \"https://www.mongodb.com/docs/atlas/performance-advisor/index-ranking/\",\n",
    "    \"https://www.mongodb.com/docs/manual/reference/operator/aggregation/indexStats/\",\n",
    "    \"https://www.mongodb.com/docs/cloud-manager/reference/api/performance-advisor/get-suggested-indexes/\"\n",
    "]"
   ],
   "id": "1b112acc449b5acb",
   "outputs": [],
   "execution_count": 39
  },
  {
   "metadata": {
    "ExecuteTime": {
     "end_time": "2025-02-07T02:17:47.578436Z",
     "start_time": "2025-02-07T02:17:43.458827Z"
    }
   },
   "cell_type": "code",
   "source": [
    "# Add to context\n",
    "def webpage_as_context(url):\n",
    "    response = requests.get(url)\n",
    "\n",
    "    soup = BeautifulSoup(response.text, 'html.parser')\n",
    "    body = soup.select('div.body')[0]\n",
    "    text = body.get_text(separator=\" \", strip=True)\n",
    "\n",
    "    return {\n",
    "        \"role\": \"user\",\n",
    "        \"content\": f\"MongoDB documentation from {url}\\n{text}\",\n",
    "    }\n",
    "\n",
    "\n",
    "base_context = []\n",
    "for url in docs:\n",
    "    context_message = webpage_as_context(url)\n",
    "    base_context.append(context_message)\n"
   ],
   "id": "8de2a737472e3676",
   "outputs": [],
   "execution_count": 40
  },
  {
   "metadata": {},
   "cell_type": "markdown",
   "source": "## Indexes",
   "id": "40199057a7f53178"
  },
  {
   "metadata": {
    "ExecuteTime": {
     "end_time": "2025-02-07T02:17:47.585794Z",
     "start_time": "2025-02-07T02:17:47.584088Z"
    }
   },
   "cell_type": "code",
   "source": [
    "designed_indexes = [\n",
    "    {'_id': 1},\n",
    "    {'type': 1, 'imdb.rating': -1, 'year': 1},\n",
    "    {\"genres\": 1, \"poster\": 1}\n",
    "]"
   ],
   "id": "7daae9bdb197aeb6",
   "outputs": [],
   "execution_count": 41
  },
  {
   "metadata": {
    "ExecuteTime": {
     "end_time": "2025-02-07T02:17:54.179496Z",
     "start_time": "2025-02-07T02:17:47.591491Z"
    }
   },
   "cell_type": "code",
   "source": [
    "# Organize indexes\n",
    "\n",
    "# Designed indexes\n",
    "designed_indexes = [str(index_definition) for index_definition in designed_indexes]\n",
    "\n",
    "# Current indexes in database\n",
    "# https://www.mongodb.com/docs/manual/reference/operator/aggregation/indexStats/\n",
    "current_indexes = []\n",
    "index_stats = list(db.aggregate([{\"$indexStats\": {}}]))\n",
    "\n",
    "for idx in index_stats:\n",
    "    current_indexes.append(str(idx[\"key\"]))\n",
    "\n",
    "# Suggested indexes\n",
    "# API details: https://www.mongodb.com/docs/cloud-manager/reference/api/performance-advisor/get-suggested-indexes/\n",
    "suggested_indexes = set()\n",
    "suggested_indexes_details = []\n",
    "\n",
    "# CLI https://www.mongodb.com/docs/atlas/cli/current/command/atlas-clusters-list/\n",
    "clusters_raw = !atlas clusters list -o json\n",
    "clusters = json.loads(clusters_raw.s)[\"results\"]\n",
    "cluster = None\n",
    "\n",
    "for c in clusters:\n",
    "    if cluster_name == c[\"name\"]:\n",
    "        cluster = c\n",
    "        break\n",
    "cluster_hosts = cluster[\"connectionStrings\"][\"standard\"].split(\"/\")[2].split(\",\")\n",
    "\n",
    "# CLI https://www.mongodb.com/docs/atlas/cli/current/command/atlas-performanceAdvisor-suggestedIndexes/\n",
    "for host in cluster_hosts:\n",
    "    index_suggestions_raw = !atlas performanceAdvisor suggestedIndexes list --processName {host} -o json\n",
    "    index_suggestions = json.loads(index_suggestions_raw.s)\n",
    "\n",
    "    for suggestion in index_suggestions[\"suggestedIndexes\"]:\n",
    "        if namespace not in suggestion[\"namespace\"]: continue\n",
    "\n",
    "        index_definition = {}\n",
    "        for record in suggestion[\"index\"]:\n",
    "            index_definition.update(record)\n",
    "\n",
    "        if str(index_definition) in suggested_indexes:\n",
    "            continue\n",
    "\n",
    "        suggested_indexes.add(str(index_definition))\n",
    "\n",
    "        sample_queries = []\n",
    "        for sample_query in index_suggestions[\"shapes\"]:\n",
    "            if sample_query[\"id\"] in suggestion[\"impact\"]:\n",
    "                del sample_query[\"operations\"][0][\"stats\"][\"ts\"]\n",
    "                suggested_indexes_details.append({\n",
    "                    \"index_definition\": index_definition,\n",
    "                    \"sample_query\": json.dumps(sample_query[\"operations\"][0][\"predicates\"]),\n",
    "                    \"query_count\": sample_query[\"count\"],\n",
    "                    \"stats\": json.dumps(sample_query[\"operations\"][0][\"stats\"])\n",
    "                })\n",
    "                # Extract a single query example in index recommendation\n",
    "                break\n",
    "\n",
    "# Compose index summary\n",
    "message = \"Designed indexes:\\n\"\n",
    "\n",
    "for idx in designed_indexes:\n",
    "    status = \"\\033[91mx\\033[0m \"\n",
    "    if idx in current_indexes:\n",
    "        status = \"\\033[92m√\\033[0m \"\n",
    "    if idx in suggested_indexes:\n",
    "        status = \"\\033[91m+\\033[0m \"\n",
    "\n",
    "    message += status + str(idx)\n",
    "    message += \"\\n\"\n",
    "\n",
    "message += \"\\n\"\n",
    "message += \"Current indexes:\\n\"\n",
    "\n",
    "for idx in current_indexes:\n",
    "    status = \"\\033[93m?\\033[0m \"\n",
    "    if idx in designed_indexes:\n",
    "        status = \"\\033[92m√\\033[0m \"\n",
    "    if idx in suggested_indexes:\n",
    "        status = \"\\033[92m+\\033[0m \"\n",
    "\n",
    "    message += status + str(idx) + \"\\n\"\n",
    "\n",
    "message += \"\\n\"\n",
    "message += \"Suggested indexes:\\n\"\n",
    "for si in suggested_indexes_details:\n",
    "    message += \"\\033[92m+\\033[0m \" + str(si[\"index_definition\"]) + \"\\n\"\n",
    "    message += \"    query: \" + str(si[\"query_count\"]) + \" x \" + str(si[\"sample_query\"]) + \"\\n\"\n",
    "    message += \"    stats: \" + str(si[\"stats\"]) + \"\\n\\n\"\n",
    "\n",
    "print(message)"
   ],
   "id": "f4565fbcaccb53b5",
   "outputs": [
    {
     "name": "stdout",
     "output_type": "stream",
     "text": [
      "Designed indexes:\n",
      "\u001B[92m√\u001B[0m {'_id': 1}\n",
      "\u001B[91m+\u001B[0m {'type': 1, 'imdb.rating': -1, 'year': 1}\n",
      "\u001B[92m√\u001B[0m {'genres': 1, 'poster': 1}\n",
      "\n",
      "Current indexes:\n",
      "\u001B[92m√\u001B[0m {'genres': 1, 'poster': 1}\n",
      "\u001B[93m?\u001B[0m {'plot': 1}\n",
      "\u001B[92m√\u001B[0m {'_id': 1}\n",
      "\n",
      "Suggested indexes:\n",
      "\u001B[92m+\u001B[0m {'type': 1, 'imdb.rating': -1, 'year': 1}\n",
      "    query: 48 x [{\"aggregate\": [{\"$match\": {\"type\": \"movie\", \"year\": {\"$in\": [{\"$numberInt\": \"2010\"}, {\"$numberInt\": \"2011\"}, {\"$numberInt\": \"2012\"}, {\"$numberInt\": \"2013\"}, {\"$numberInt\": \"2014\"}, {\"$numberInt\": \"2015\"}]}}}, {\"$sort\": {\"imdb.rating\": {\"$numberInt\": \"-1\"}}}, {\"$limit\": {\"$numberInt\": \"10000\"}}]}]\n",
      "    stats: {\"ms\": 155, \"nReturned\": 101, \"nScanned\": 106745}\n",
      "\n",
      "\n"
     ]
    }
   ],
   "execution_count": 42
  },
  {
   "metadata": {},
   "cell_type": "markdown",
   "source": "## Queries",
   "id": "7071614b0cd14531"
  },
  {
   "metadata": {},
   "cell_type": "markdown",
   "source": [
    "#### 1. Find movies by type, year, sort by imdb.rating\n",
    "\n",
    "Index is present in the design but in missing on the database\n",
    "\n",
    "Index `{'type': 1, 'imdb.rating': -1, 'year': 1}`"
   ],
   "id": "41517223fa421a95"
  },
  {
   "metadata": {
    "ExecuteTime": {
     "end_time": "2025-02-07T02:17:54.189754Z",
     "start_time": "2025-02-07T02:17:54.187468Z"
    }
   },
   "cell_type": "code",
   "source": [
    "pipeline = [\n",
    "    {\"$match\": {\n",
    "        \"type\": \"movie\",\n",
    "        \"year\": {\"$in\": [2010, 2011, 2012, 2013, 2014, 2015]}\n",
    "    }},\n",
    "    {\"$sort\": {\"imdb.rating\": -1}},\n",
    "    {\"$limit\": 10000}\n",
    "]"
   ],
   "id": "8526f6654ca54bff",
   "outputs": [],
   "execution_count": 43
  },
  {
   "metadata": {},
   "cell_type": "markdown",
   "source": [
    "#### 2. Find movies with missing poster by genre\n",
    "\n",
    "Optimal index is present\n",
    "\n",
    "Index `{'genres': 1, 'poster': 1}`\n",
    "\n"
   ],
   "id": "3484139aa153100d"
  },
  {
   "metadata": {
    "ExecuteTime": {
     "end_time": "2025-02-07T02:17:54.198051Z",
     "start_time": "2025-02-07T02:17:54.195988Z"
    }
   },
   "cell_type": "code",
   "source": [
    "pipeline = [\n",
    "    {\"$match\": {\n",
    "        \"genres\": {\"$in\": [\"Animation\", \"Short\"]},\n",
    "        \"poster\": None\n",
    "    }},\n",
    "    {\"$project\": {\"_id\": 1, \"title\": 1}}\n",
    "]"
   ],
   "id": "728910de1a1cd828",
   "outputs": [],
   "execution_count": 44
  },
  {
   "metadata": {},
   "cell_type": "markdown",
   "source": [
    "#### 3. Aggregation with an $or operator\n",
    "Collection scan - indexes are missing\n",
    "\n",
    "Indexes: `{'year': 1}`, `{'genres': 1}`"
   ],
   "id": "469a2063afa7f1ab"
  },
  {
   "metadata": {
    "ExecuteTime": {
     "end_time": "2025-02-07T02:17:54.206280Z",
     "start_time": "2025-02-07T02:17:54.204265Z"
    }
   },
   "cell_type": "code",
   "source": [
    "pipeline = [\n",
    "    {\"$match\": {\n",
    "        \"$or\": [{\"year\": 2000}, {\"genres\": \"Animation\"}]\n",
    "    }},\n",
    "    {\"$project\": {\"_id\": 1, \"title\": 1}}\n",
    "]"
   ],
   "id": "85c7a24230247479",
   "outputs": [],
   "execution_count": 45
  },
  {
   "metadata": {},
   "cell_type": "markdown",
   "source": "## Query performance",
   "id": "25c70f11192cde00"
  },
  {
   "metadata": {
    "ExecuteTime": {
     "end_time": "2025-02-07T02:18:00.071951Z",
     "start_time": "2025-02-07T02:17:54.212045Z"
    }
   },
   "cell_type": "code",
   "source": [
    "# Explain query\n",
    "# https://www.mongodb.com/docs/manual/reference/explain-results/\n",
    "explain = mongodb_client.get_database(database_name).command(\n",
    "    'explain',\n",
    "    {\n",
    "        'aggregate': collection_name,\n",
    "        'pipeline': pipeline,\n",
    "        'cursor': {}\n",
    "    },\n",
    "    verbosity='allPlansExecution'\n",
    ")\n",
    "\n",
    "context = base_context.copy()\n",
    "context.extend([\n",
    "    {\n",
    "        \"role\": \"user\",\n",
    "        \"content\": f\"Format a json explain plan using a template. Use markdown format for output. Do not provide text summary in the end \",\n",
    "    },\n",
    "    {\n",
    "        \"role\": \"user\",\n",
    "        \"content\": \"\"\"Template:\n",
    "### Query Overview\n",
    "```\n",
    "nReturned: 7345\n",
    "executionTimeMillis: 16\n",
    "totalKeysExamined: 7465\n",
    "totalDocsExamined: 7345\n",
    "```\n",
    "\n",
    "### Indexes Used\n",
    "```\n",
    "- genres_1: {genres: 1}\n",
    "- year_1: {year: 1}\n",
    "```\n",
    "\n",
    "### Execution Stages\n",
    "```\n",
    "SUBPLAN\n",
    "└── PROJECTION_SIMPLE\n",
    "    └── FETCH\n",
    "        └── OR\n",
    "            ├── IXSCAN (genres_1)\n",
    "            │   nReturned: 4560\n",
    "            │   keysExamined: 4560\n",
    "            │\n",
    "            └── IXSCAN (year_1)\n",
    "                nReturned: 2905\n",
    "                keysExamined: 2905\n",
    "```\"\"\",\n",
    "    },\n",
    "    {\n",
    "        \"role\": \"user\",\n",
    "        \"content\": f\"Query explain: {explain}\",\n",
    "    }\n",
    "])\n",
    "response = anthropic_client.messages.create(\n",
    "    max_tokens=1024,\n",
    "    messages=context,\n",
    "    model=\"claude-3-5-sonnet-latest\",\n",
    ")\n",
    "\n",
    "display(Markdown(response.content[0].text))"
   ],
   "id": "4cb4176e134374e6",
   "outputs": [
    {
     "data": {
      "text/plain": [
       "<IPython.core.display.Markdown object>"
      ],
      "text/markdown": "### Query Overview\n```\nnReturned: 7345\nexecutionTimeMillis: 123\ntotalKeysExamined: 0\ntotalDocsExamined: 106745\n```\n\n### Indexes Used\n```\nNone - Collection Scan used\n```\n\n### Execution Stages\n```\nSUBPLAN\n└── PROJECTION_SIMPLE\n    └── COLLSCAN\n        filter: {$or: [{genres: {$eq: 'Animation'}}, {year: {$eq: 2000}}]}\n        nReturned: 7345\n        docsExamined: 106745\n        direction: forward\n```"
     },
     "metadata": {},
     "output_type": "display_data"
    }
   ],
   "execution_count": 46
  },
  {
   "metadata": {
    "ExecuteTime": {
     "end_time": "2025-02-07T02:18:03.333265Z",
     "start_time": "2025-02-07T02:18:00.084382Z"
    }
   },
   "cell_type": "code",
   "source": [
    "# Measure end-to-end execution time\n",
    "time = %timeit -o list(db.aggregate(pipeline=pipeline))"
   ],
   "id": "1e17951728927fe6",
   "outputs": [
    {
     "name": "stdout",
     "output_type": "stream",
     "text": [
      "369 ms ± 11 ms per loop (mean ± std. dev. of 7 runs, 1 loop each)\n"
     ]
    }
   ],
   "execution_count": 47
  },
  {
   "metadata": {
    "ExecuteTime": {
     "end_time": "2025-02-07T02:18:15.274724Z",
     "start_time": "2025-02-07T02:18:03.343881Z"
    }
   },
   "cell_type": "code",
   "source": [
    "# Generate summary\n",
    "context = base_context.copy()\n",
    "context.extend([\n",
    "    {\n",
    "        \"role\": \"user\",\n",
    "        \"content\": f\"Act as a MongoDB advisor. You will be provided with information on indexes, example query that is being evaluated and a query explain plan. Provide a brief summary of explain plan, recommendations for query performance and indexes. Use markdown format for output, escape $ $ character sequence in markdown if it's not in the code block. Include original query in the beginning for a reference\",\n",
    "    },\n",
    "    {\n",
    "        \"role\": \"user\",\n",
    "        \"content\": f\"Current indexes: {current_indexes}, designed indexes: {designed_indexes}, suggested indexes: {suggested_indexes_details}\",\n",
    "    },\n",
    "    {\n",
    "        \"role\": \"user\",\n",
    "        \"content\": f\"Index stats: {index_stats}\",\n",
    "    },\n",
    "    {\n",
    "        \"role\": \"user\",\n",
    "        \"content\": f\"Query explain: {explain}\",\n",
    "    },\n",
    "    {\n",
    "        \"role\": \"user\",\n",
    "        \"content\": f\"Execution time on on the client side: {time}\",\n",
    "    }\n",
    "])\n",
    "response = anthropic_client.messages.create(\n",
    "    max_tokens=1024,\n",
    "    messages=context,\n",
    "    model=\"claude-3-5-sonnet-latest\",\n",
    ")\n",
    "\n",
    "display(Markdown(response.content[0].text))\n",
    "context.extend([\n",
    "    {\n",
    "        \"role\": \"assistant\",\n",
    "        \"content\": response.content[0].text,\n",
    "    }\n",
    "])"
   ],
   "id": "70b081f66ce9bc02",
   "outputs": [
    {
     "data": {
      "text/plain": [
       "<IPython.core.display.Markdown object>"
      ],
      "text/markdown": "# Query Analysis and Recommendations\n\n## Original Query\n```javascript\ndb.movies.aggregate([\n  {\n    $match: {\n      $or: [\n        { year: 2000 },\n        { genres: \"Animation\" }\n      ]\n    }\n  },\n  {\n    $project: {\n      _id: 1,\n      title: 1\n    }\n  }\n])\n```\n\n## Explain Plan Summary\n- Query performs a COLLSCAN (full collection scan)\n- Examined 106,745 documents to return 7,345 results\n- Execution time: 123ms on server side, 369ms on client side\n- No indexes were used despite having indexes on `genres` and other fields\n\n## Performance Issues\n1. Full collection scan is being performed instead of using indexes\n2. High number of documents examined (106,745) compared to documents returned (7,345)\n3. \\$or operation without proper index coverage\n\n## Recommendations\n\n### Index Recommendations\n1. Create a compound index to support both conditions in the \\$or query:\n```javascript\ndb.movies.createIndex({ \"genres\": 1, \"year\": 1 })\n```\n\n2. Consider creating separate indexes if these fields are commonly queried independently:\n```javascript\ndb.movies.createIndex({ \"genres\": 1 })\ndb.movies.createIndex({ \"year\": 1 })\n```\n\n### Query Optimization\n1. If possible, restructure the query to avoid \\$or by doing two separate queries and combining results:\n```javascript\ndb.movies.aggregate([\n  {\n    $match: { \n      $or: [\n        { year: 2000 },\n        { genres: \"Animation\" }\n      ]\n    },\n    hint: { \"genres\": 1, \"year\": 1 }  // Force index usage\n  },\n  {\n    $project: {\n      _id: 1,\n      title: 1\n    }\n  }\n])\n```\n\n2. Consider adding a limit if you don't need all results\n\n### Current Index Usage\n- The existing `{ genres: 1, poster: 1 }` index has been used 54 times but isn't optimal for this query\n- The `plot` index hasn't been used at all (0 ops) - consider dropping if not needed\n- The `_id` index has minimal usage (9 ops)\n\nImplementation of these recommendations should significantly reduce the number of documents examined and improve query performance by eliminating the full collection scan."
     },
     "metadata": {},
     "output_type": "display_data"
    }
   ],
   "execution_count": 48
  },
  {
   "metadata": {
    "ExecuteTime": {
     "end_time": "2025-02-07T02:18:15.286955Z",
     "start_time": "2025-02-07T02:18:15.284707Z"
    }
   },
   "cell_type": "code",
   "source": [
    "follow_up_question = \"\"\"\n",
    "Why genres_1_poster_1 index was not selected?\n",
    "\"\"\""
   ],
   "id": "14547f85703cd885",
   "outputs": [],
   "execution_count": 49
  },
  {
   "metadata": {
    "ExecuteTime": {
     "end_time": "2025-02-07T02:18:25.105003Z",
     "start_time": "2025-02-07T02:18:15.295002Z"
    }
   },
   "cell_type": "code",
   "source": [
    "# Chat\n",
    "context.extend([\n",
    "    {\n",
    "        \"role\": \"user\",\n",
    "        \"content\": follow_up_question,\n",
    "    }\n",
    "])\n",
    "response = anthropic_client.messages.create(\n",
    "    max_tokens=1024,\n",
    "    messages=context,\n",
    "    model=\"claude-3-5-sonnet-latest\",\n",
    ")\n",
    "\n",
    "display(Markdown(response.content[0].text))\n",
    "\n",
    "context.extend([\n",
    "    {\n",
    "        \"role\": \"assistant\",\n",
    "        \"content\": response.content[0].text,\n",
    "    }\n",
    "])"
   ],
   "id": "f89a803b741d442a",
   "outputs": [
    {
     "data": {
      "text/plain": [
       "<IPython.core.display.Markdown object>"
      ],
      "text/markdown": "# Index Selection Analysis\n\nThe `genres_1_poster_1` index wasn't selected for several reasons:\n\n1. **Partial Index Coverage**\n   - While the index includes `genres` which is one part of the \\$or condition, it doesn't help with the `year` condition\n   - The second field `poster` is not relevant to this query\n   - MongoDB query planner determined that using this index would require:\n     * An index scan for the `genres: \"Animation\"` condition\n     * A collection scan for the `year: 2000` condition\n     * Merging results from both operations\n\n2. **Query Planner Decision**\n   - When dealing with \\$or conditions, MongoDB needs indexes that can efficiently serve all conditions\n   - In this case, the planner decided that a single collection scan would be more efficient than:\n     * Using the index for one condition\n     * Performing a collection scan for the other condition\n     * Merging the results\n   - This is known as the \"index intersection penalty\" for \\$or queries\n\n3. **Cost Calculation**\n   - The query planner estimated that:\n     * Cost of single COLLSCAN: examine all 106,745 documents once\n     * Cost of index + COLLSCAN + merge: examine index entries + examine documents for year condition + merge overhead\n   - Selected the simpler plan (COLLSCAN) as it was deemed more efficient\n\n## Better Index Strategy\n```javascript\n// Option 1: Compound index covering both conditions\ndb.movies.createIndex({ \"genres\": 1, \"year\": 1 })\n\n// Option 2: Separate indexes if these fields are queried independently\ndb.movies.createIndex({ \"genres\": 1 })\ndb.movies.createIndex({ \"year\": 1 })\n```\n\nWith these indexes, the query planner would have better options for executing the \\$or query, potentially using index intersection or separate index scans for each condition."
     },
     "metadata": {},
     "output_type": "display_data"
    }
   ],
   "execution_count": 50
  }
 ],
 "metadata": {
  "kernelspec": {
   "display_name": "Python 3 (ipykernel)",
   "language": "python",
   "name": "python3"
  },
  "language_info": {
   "codemirror_mode": {
    "name": "ipython",
    "version": 3
   },
   "file_extension": ".py",
   "mimetype": "text/x-python",
   "name": "python",
   "nbconvert_exporter": "python",
   "pygments_lexer": "ipython3",
   "version": "3.9.6"
  }
 },
 "nbformat": 4,
 "nbformat_minor": 5
}
