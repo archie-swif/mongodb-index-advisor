{
 "cells": [
  {
   "metadata": {
    "ExecuteTime": {
     "end_time": "2025-02-07T02:11:17.331729Z",
     "start_time": "2025-02-07T02:11:17.329001Z"
    }
   },
   "cell_type": "code",
   "source": [
    "# Specify cluster name, connect to a specific database,\n",
    "cluster_name = \"echo\"\n",
    "database_name = \"sample_mflix\"\n",
    "collection_name = \"movies\""
   ],
   "id": "da57151f73828656",
   "outputs": [],
   "execution_count": 23
  },
  {
   "cell_type": "code",
   "id": "cb01c79c57053f7f",
   "metadata": {
    "ExecuteTime": {
     "end_time": "2025-02-07T02:11:17.617494Z",
     "start_time": "2025-02-07T02:11:17.337080Z"
    }
   },
   "source": [
    "# Init\n",
    "import json\n",
    "import os\n",
    "\n",
    "import requests\n",
    "from IPython.core.display import Markdown\n",
    "# https://github.com/anthropics/anthropic-sdk-python\n",
    "from anthropic import Anthropic\n",
    "from bs4 import BeautifulSoup\n",
    "from dotenv import load_dotenv\n",
    "from pymongo.mongo_client import MongoClient\n",
    "\n",
    "# Load env variables for MongoDB Atlas CLI, MongoDB database client and Anthropic client\n",
    "load_dotenv()\n",
    "uri = os.getenv(\"MONGO_URI\")\n",
    "\n",
    "# Create MongoBD Client, point to a specific database/collection\n",
    "mongodb_client = MongoClient(uri)\n",
    "namespace = database_name + \".\" + collection_name\n",
    "db = mongodb_client[database_name][collection_name]\n",
    "\n",
    "# Create Anthropic client\n",
    "anthropic_client = Anthropic()\n",
    "base_context = []"
   ],
   "outputs": [],
   "execution_count": 24
  },
  {
   "metadata": {},
   "cell_type": "markdown",
   "source": "## MongoDB Context",
   "id": "f9d92c0240611e81"
  },
  {
   "metadata": {
    "ExecuteTime": {
     "end_time": "2025-02-07T02:11:17.625840Z",
     "start_time": "2025-02-07T02:11:17.623763Z"
    }
   },
   "cell_type": "code",
   "source": [
    "docs = [\n",
    "    \"https://www.mongodb.com/docs/manual/core/query-optimization/\",\n",
    "    \"https://www.mongodb.com/docs/manual/tutorial/equality-sort-range-rule/\",\n",
    "    \"https://www.mongodb.com/docs/manual/core/index-partial/\",\n",
    "    \"https://www.mongodb.com/docs/manual/reference/explain-results/\",\n",
    "    \"https://www.mongodb.com/docs/manual/tutorial/analyze-query-plan/\",\n",
    "    \"https://www.mongodb.com/docs/manual/tutorial/optimize-query-performance-with-indexes-and-projections/\",\n",
    "    \"https://www.mongodb.com/docs/atlas/performance-advisor/\",\n",
    "    \"https://www.mongodb.com/docs/atlas/performance-advisor/index-ranking/\",\n",
    "    \"https://www.mongodb.com/docs/manual/reference/operator/aggregation/indexStats/\",\n",
    "    \"https://www.mongodb.com/docs/cloud-manager/reference/api/performance-advisor/get-suggested-indexes/\"\n",
    "]"
   ],
   "id": "1b112acc449b5acb",
   "outputs": [],
   "execution_count": 25
  },
  {
   "metadata": {
    "ExecuteTime": {
     "end_time": "2025-02-07T02:11:21.713438Z",
     "start_time": "2025-02-07T02:11:17.631552Z"
    }
   },
   "cell_type": "code",
   "source": [
    "# Add to context\n",
    "def webpage_as_context(url):\n",
    "    response = requests.get(url)\n",
    "\n",
    "    soup = BeautifulSoup(response.text, 'html.parser')\n",
    "    body = soup.select('div.body')[0]\n",
    "    text = body.get_text(separator=\" \", strip=True)\n",
    "\n",
    "    return {\n",
    "        \"role\": \"user\",\n",
    "        \"content\": f\"MongoDB documentation from {url}\\n{text}\",\n",
    "    }\n",
    "\n",
    "\n",
    "base_context = []\n",
    "for url in docs:\n",
    "    context_message = webpage_as_context(url)\n",
    "    base_context.append(context_message)\n"
   ],
   "id": "8de2a737472e3676",
   "outputs": [],
   "execution_count": 26
  },
  {
   "metadata": {},
   "cell_type": "markdown",
   "source": "## Indexes",
   "id": "40199057a7f53178"
  },
  {
   "metadata": {
    "ExecuteTime": {
     "end_time": "2025-02-07T02:11:21.721174Z",
     "start_time": "2025-02-07T02:11:21.719352Z"
    }
   },
   "cell_type": "code",
   "source": [
    "designed_indexes = [\n",
    "    {'_id': 1},\n",
    "    {'type': 1, 'imdb.rating': -1, 'year': 1},\n",
    "    {\"genres\": 1, \"poster\": 1}\n",
    "]"
   ],
   "id": "7daae9bdb197aeb6",
   "outputs": [],
   "execution_count": 27
  },
  {
   "metadata": {
    "ExecuteTime": {
     "end_time": "2025-02-07T02:11:28.665794Z",
     "start_time": "2025-02-07T02:11:21.726690Z"
    }
   },
   "cell_type": "code",
   "source": [
    "# Organize indexes\n",
    "\n",
    "# Designed indexes\n",
    "designed_indexes = [str(index_definition) for index_definition in designed_indexes]\n",
    "\n",
    "# Current indexes in database\n",
    "# https://www.mongodb.com/docs/manual/reference/operator/aggregation/indexStats/\n",
    "current_indexes = []\n",
    "index_stats = list(db.aggregate([{\"$indexStats\": {}}]))\n",
    "\n",
    "for idx in index_stats:\n",
    "    current_indexes.append(str(idx[\"key\"]))\n",
    "\n",
    "# Suggested indexes\n",
    "# API details: https://www.mongodb.com/docs/cloud-manager/reference/api/performance-advisor/get-suggested-indexes/\n",
    "suggested_indexes = set()\n",
    "suggested_indexes_details = []\n",
    "\n",
    "# CLI https://www.mongodb.com/docs/atlas/cli/current/command/atlas-clusters-list/\n",
    "clusters_raw = !atlas clusters list -o json\n",
    "clusters = json.loads(clusters_raw.s)[\"results\"]\n",
    "cluster = None\n",
    "\n",
    "for c in clusters:\n",
    "    if cluster_name == c[\"name\"]:\n",
    "        cluster = c\n",
    "        break\n",
    "cluster_hosts = cluster[\"connectionStrings\"][\"standard\"].split(\"/\")[2].split(\",\")\n",
    "\n",
    "# CLI https://www.mongodb.com/docs/atlas/cli/current/command/atlas-performanceAdvisor-suggestedIndexes/\n",
    "for host in cluster_hosts:\n",
    "    index_suggestions_raw = !atlas performanceAdvisor suggestedIndexes list --processName {host} -o json\n",
    "    index_suggestions = json.loads(index_suggestions_raw.s)\n",
    "\n",
    "    for suggestion in index_suggestions[\"suggestedIndexes\"]:\n",
    "        if namespace not in suggestion[\"namespace\"]: continue\n",
    "\n",
    "        index_definition = {}\n",
    "        for record in suggestion[\"index\"]:\n",
    "            index_definition.update(record)\n",
    "\n",
    "        if str(index_definition) in suggested_indexes:\n",
    "            continue\n",
    "\n",
    "        suggested_indexes.add(str(index_definition))\n",
    "\n",
    "        sample_queries = []\n",
    "        for sample_query in index_suggestions[\"shapes\"]:\n",
    "            if sample_query[\"id\"] in suggestion[\"impact\"]:\n",
    "                del sample_query[\"operations\"][0][\"stats\"][\"ts\"]\n",
    "                suggested_indexes_details.append({\n",
    "                    \"index_definition\": index_definition,\n",
    "                    \"sample_query\": json.dumps(sample_query[\"operations\"][0][\"predicates\"]),\n",
    "                    \"query_count\": sample_query[\"count\"],\n",
    "                    \"stats\": json.dumps(sample_query[\"operations\"][0][\"stats\"])\n",
    "                })\n",
    "                # Extract a single query example in index recommendation\n",
    "                break\n",
    "\n",
    "# Compose index summary\n",
    "message = \"Designed indexes:\\n\"\n",
    "\n",
    "for idx in designed_indexes:\n",
    "    status = \"\\033[91mx\\033[0m \"\n",
    "    if idx in current_indexes:\n",
    "        status = \"\\033[92m√\\033[0m \"\n",
    "    if idx in suggested_indexes:\n",
    "        status = \"\\033[91m+\\033[0m \"\n",
    "\n",
    "    message += status + str(idx)\n",
    "    message += \"\\n\"\n",
    "\n",
    "message += \"\\n\"\n",
    "message += \"Current indexes:\\n\"\n",
    "\n",
    "for idx in current_indexes:\n",
    "    status = \"\\033[93m?\\033[0m \"\n",
    "    if idx in designed_indexes:\n",
    "        status = \"\\033[92m√\\033[0m \"\n",
    "    if idx in suggested_indexes:\n",
    "        status = \"\\033[92m+\\033[0m \"\n",
    "\n",
    "    message += status + str(idx) + \"\\n\"\n",
    "\n",
    "message += \"\\n\"\n",
    "message += \"Suggested indexes:\\n\"\n",
    "for si in suggested_indexes_details:\n",
    "    message += \"\\033[92m+\\033[0m \" + str(si[\"index_definition\"]) + \"\\n\"\n",
    "    message += \"    query: \" + str(si[\"query_count\"]) + \" x \" + str(si[\"sample_query\"]) + \"\\n\"\n",
    "    message += \"    stats: \" + str(si[\"stats\"]) + \"\\n\\n\"\n",
    "\n",
    "print(message)"
   ],
   "id": "f4565fbcaccb53b5",
   "outputs": [
    {
     "name": "stdout",
     "output_type": "stream",
     "text": [
      "Designed indexes:\n",
      "\u001B[92m√\u001B[0m {'_id': 1}\n",
      "\u001B[91m+\u001B[0m {'type': 1, 'imdb.rating': -1, 'year': 1}\n",
      "\u001B[92m√\u001B[0m {'genres': 1, 'poster': 1}\n",
      "\n",
      "Current indexes:\n",
      "\u001B[92m√\u001B[0m {'genres': 1, 'poster': 1}\n",
      "\u001B[93m?\u001B[0m {'plot': 1}\n",
      "\u001B[92m√\u001B[0m {'_id': 1}\n",
      "\n",
      "Suggested indexes:\n",
      "\u001B[92m+\u001B[0m {'type': 1, 'imdb.rating': -1, 'year': 1}\n",
      "    query: 48 x [{\"aggregate\": [{\"$match\": {\"type\": \"movie\", \"year\": {\"$in\": [{\"$numberInt\": \"2010\"}, {\"$numberInt\": \"2011\"}, {\"$numberInt\": \"2012\"}, {\"$numberInt\": \"2013\"}, {\"$numberInt\": \"2014\"}, {\"$numberInt\": \"2015\"}]}}}, {\"$sort\": {\"imdb.rating\": {\"$numberInt\": \"-1\"}}}, {\"$limit\": {\"$numberInt\": \"10000\"}}]}]\n",
      "    stats: {\"ms\": 155, \"nReturned\": 101, \"nScanned\": 106745}\n",
      "\n",
      "\n"
     ]
    }
   ],
   "execution_count": 28
  },
  {
   "metadata": {},
   "cell_type": "markdown",
   "source": "## Queries",
   "id": "7071614b0cd14531"
  },
  {
   "metadata": {},
   "cell_type": "markdown",
   "source": [
    "#### 1. Find movies by type, year, sort by imdb.rating\n",
    "\n",
    "Index is present in the design but in missing on the database\n",
    "\n",
    "Index `{'type': 1, 'imdb.rating': -1, 'year': 1}`"
   ],
   "id": "41517223fa421a95"
  },
  {
   "metadata": {
    "ExecuteTime": {
     "end_time": "2025-02-07T02:11:28.677572Z",
     "start_time": "2025-02-07T02:11:28.675493Z"
    }
   },
   "cell_type": "code",
   "source": [
    "pipeline = [\n",
    "    {\"$match\": {\n",
    "        \"type\": \"movie\",\n",
    "        \"year\": {\"$in\": [2010, 2011, 2012, 2013, 2014, 2015]}\n",
    "    }},\n",
    "    {\"$sort\": {\"imdb.rating\": -1}},\n",
    "    {\"$limit\": 10000}\n",
    "]\n",
    "is_aggregation = True"
   ],
   "id": "8526f6654ca54bff",
   "outputs": [],
   "execution_count": 29
  },
  {
   "metadata": {},
   "cell_type": "markdown",
   "source": [
    "#### 2. Find movies with missing poster by genre\n",
    "\n",
    "Optimal index is present\n",
    "\n",
    "Index `{'genres': 1, 'poster': 1}`\n",
    "\n"
   ],
   "id": "3484139aa153100d"
  },
  {
   "metadata": {
    "ExecuteTime": {
     "end_time": "2025-02-07T02:11:28.691521Z",
     "start_time": "2025-02-07T02:11:28.689244Z"
    }
   },
   "cell_type": "code",
   "source": [
    "query = db.find(\n",
    "    {\n",
    "        \"genres\": {\"$in\": [\"Animation\", \"Short\"]},\n",
    "        \"poster\": None\n",
    "    },\n",
    "    {\"_id\": 1, \"title\": 1}\n",
    ")\n",
    "is_aggregation = False"
   ],
   "id": "728910de1a1cd828",
   "outputs": [],
   "execution_count": 30
  },
  {
   "metadata": {},
   "cell_type": "markdown",
   "source": [
    "#### 3. Aggregation with an $or operator\n",
    "Collection scan - indexes are missing\n",
    "\n",
    "Indexes: `{'year': 1}`, `{'genres': 1}`\n"
   ],
   "id": "469a2063afa7f1ab"
  },
  {
   "metadata": {
    "ExecuteTime": {
     "end_time": "2025-02-07T02:11:28.695801Z",
     "start_time": "2025-02-07T02:11:28.694067Z"
    }
   },
   "cell_type": "code",
   "source": [
    "pipeline = [\n",
    "    {\"$match\": {\n",
    "        \"$or\": [{\"year\": 2000}, {\"genres\": \"Animation\"}]\n",
    "    }},\n",
    "    {\"$project\": {\"_id\": 1, \"title\": 1}}\n",
    "]\n",
    "is_aggregation = True"
   ],
   "id": "85c7a24230247479",
   "outputs": [],
   "execution_count": 31
  },
  {
   "metadata": {},
   "cell_type": "markdown",
   "source": "## Query performance",
   "id": "25c70f11192cde00"
  },
  {
   "metadata": {
    "ExecuteTime": {
     "end_time": "2025-02-07T02:11:34.179443Z",
     "start_time": "2025-02-07T02:11:28.701228Z"
    }
   },
   "cell_type": "code",
   "source": [
    "# Explain query\n",
    "# https://www.mongodb.com/docs/manual/reference/explain-results/\n",
    "\n",
    "if is_aggregation:\n",
    "    explain = mongodb_client.get_database(database_name).command(\n",
    "        'explain',\n",
    "        {\n",
    "            'aggregate': collection_name,\n",
    "            'pipeline': pipeline,\n",
    "            'cursor': {}\n",
    "        },\n",
    "        verbosity='allPlansExecution'\n",
    "    )\n",
    "else:\n",
    "    explain = query.clone().explain()\n",
    "\n",
    "context = base_context.copy()\n",
    "context.extend([\n",
    "    {\n",
    "        \"role\": \"user\",\n",
    "        \"content\": f\"Format a json explain plan using a template. Use markdown format for output. Do not provide text summary in the end \",\n",
    "    },\n",
    "    {\n",
    "        \"role\": \"user\",\n",
    "        \"content\": \"\"\"Template:\n",
    "### Query Overview\n",
    "```\n",
    "nReturned: 7345\n",
    "executionTimeMillis: 16\n",
    "totalKeysExamined: 7465\n",
    "totalDocsExamined: 7345\n",
    "```\n",
    "\n",
    "### Indexes Used\n",
    "```\n",
    "- genres_1: {genres: 1}\n",
    "- year_1: {year: 1}\n",
    "```\n",
    "\n",
    "### Execution Stages\n",
    "```\n",
    "SUBPLAN\n",
    "└── PROJECTION_SIMPLE\n",
    "    └── FETCH\n",
    "        └── OR\n",
    "            ├── IXSCAN (genres_1)\n",
    "            │   nReturned: 4560\n",
    "            │   keysExamined: 4560\n",
    "            │\n",
    "            └── IXSCAN (year_1)\n",
    "                nReturned: 2905\n",
    "                keysExamined: 2905\n",
    "```\"\"\",\n",
    "    },\n",
    "    {\n",
    "        \"role\": \"user\",\n",
    "        \"content\": f\"Query explain: {explain}\",\n",
    "    }\n",
    "])\n",
    "response = anthropic_client.messages.create(\n",
    "    max_tokens=1024,\n",
    "    messages=context,\n",
    "    model=\"claude-3-5-sonnet-latest\",\n",
    ")\n",
    "\n",
    "display(Markdown(response.content[0].text))"
   ],
   "id": "4cb4176e134374e6",
   "outputs": [
    {
     "data": {
      "text/plain": [
       "<IPython.core.display.Markdown object>"
      ],
      "text/markdown": "### Query Overview\n```\nnReturned: 7345\nexecutionTimeMillis: 123\ntotalKeysExamined: 0\ntotalDocsExamined: 106745\n```\n\n### Indexes Used\n```\nNo indexes used - COLLSCAN performed\n```\n\n### Execution Stages\n```\nSUBPLAN\n└── PROJECTION_SIMPLE\n    └── COLLSCAN\n        filter: $or: [\n          {genres: {$eq: 'Animation'}},\n          {year: {$eq: 2000}}\n        ]\n        nReturned: 7345\n        docsExamined: 106745\n        direction: forward\n```"
     },
     "metadata": {},
     "output_type": "display_data"
    }
   ],
   "execution_count": 32
  },
  {
   "metadata": {
    "ExecuteTime": {
     "end_time": "2025-02-07T02:11:37.393588Z",
     "start_time": "2025-02-07T02:11:34.191991Z"
    }
   },
   "cell_type": "code",
   "source": [
    "# Measure end-to-end execution time\n",
    "# Aggregations and queries are executed differently\n",
    "time = %timeit -o list(db.aggregate(pipeline=pipeline) if is_aggregation else query.clone())"
   ],
   "id": "1e17951728927fe6",
   "outputs": [
    {
     "name": "stdout",
     "output_type": "stream",
     "text": [
      "361 ms ± 8.49 ms per loop (mean ± std. dev. of 7 runs, 1 loop each)\n"
     ]
    }
   ],
   "execution_count": 33
  },
  {
   "metadata": {
    "ExecuteTime": {
     "end_time": "2025-02-07T02:11:50.157057Z",
     "start_time": "2025-02-07T02:11:37.404412Z"
    }
   },
   "cell_type": "code",
   "source": [
    "# Generate summary\n",
    "context = base_context.copy()\n",
    "context.extend([\n",
    "    {\n",
    "        \"role\": \"user\",\n",
    "        \"content\": f\"Act as a MongoDB advisor. You will be provided with information on indexes, example query that is being evaluated and a query explain plan. Provide a brief summary of explain plan, recommendations for query performance and indexes. Use markdown format for output, escape $ $ character sequence in markdown if it's not in the code block. Include original query in the beginning for a reference\",\n",
    "    },\n",
    "    {\n",
    "        \"role\": \"user\",\n",
    "        \"content\": f\"Current indexes: {current_indexes}, designed indexes: {designed_indexes}, suggested indexes: {suggested_indexes_details}\",\n",
    "    },\n",
    "    {\n",
    "        \"role\": \"user\",\n",
    "        \"content\": f\"Index stats: {index_stats}\",\n",
    "    },\n",
    "    {\n",
    "        \"role\": \"user\",\n",
    "        \"content\": f\"Query explain: {explain}\",\n",
    "    },\n",
    "    {\n",
    "        \"role\": \"user\",\n",
    "        \"content\": f\"Execution time on on the client side: {time}\",\n",
    "    }\n",
    "])\n",
    "response = anthropic_client.messages.create(\n",
    "    max_tokens=1024,\n",
    "    messages=context,\n",
    "    model=\"claude-3-5-sonnet-latest\",\n",
    ")\n",
    "\n",
    "display(Markdown(response.content[0].text))\n",
    "context.extend([\n",
    "    {\n",
    "        \"role\": \"assistant\",\n",
    "        \"content\": response.content[0].text,\n",
    "    }\n",
    "])"
   ],
   "id": "70b081f66ce9bc02",
   "outputs": [
    {
     "data": {
      "text/plain": [
       "<IPython.core.display.Markdown object>"
      ],
      "text/markdown": "# Query Analysis and Recommendations\n\n## Original Query\n```javascript\n{\n  \"aggregate\": \"movies\",\n  \"pipeline\": [\n    {\n      \"$match\": {\n        \"$or\": [\n          {\"year\": 2000},\n          {\"genres\": \"Animation\"}\n        ]\n      }\n    },\n    {\n      \"$project\": {\n        \"_id\": 1,\n        \"title\": 1\n      }\n    }\n  ]\n}\n```\n\n## Explain Plan Summary\n- Collection scan (COLLSCAN) was used instead of an index\n- Examined 106,745 documents to return 7,345 results\n- Execution time: 123ms on server side, 361ms on client side\n- No indexes were used for the query\n- Using SUBPLAN stage for handling the \\$or operation\n\n## Performance Issues\n1. Full collection scan required examining all documents\n2. High ratio of documents examined (106,745) vs returned (7,345)\n3. No suitable index available for the \\$or conditions\n4. Current indexes don't support the query predicates on `year` and `genres`\n\n## Recommendations\n\n### Index Recommendations\n1. Create a compound index for the `genres` field:\n```javascript\n{ \"genres\": 1, \"year\": 1 }\n```\n\n2. Consider creating separate indexes if these fields are frequently queried independently:\n```javascript\n{ \"genres\": 1 }\n{ \"year\": 1 }\n```\n\n### Query Optimization\n1. If possible, restructure the query to avoid \\$or by splitting into two separate queries and combining results in the application\n2. Consider adding a limit if you don't need all results\n3. The projection is good as it reduces the amount of data returned\n\n### Current Index Usage\n- The existing indexes (`genres_1_poster_1`, `plot_1`, `_id_`) aren't helpful for this query\n- The `genres_1_poster_1` index has been used 54 times recently, while `plot_1` hasn't been used at all\n- Consider dropping unused indexes like `plot_1` if it's not needed for other queries\n\n### Expected Improvement\nWith the recommended index on `{genres: 1, year: 1}`, we would expect:\n- Reduction in documents examined from 106,745 to approximately 7,345\n- Significant improvement in query execution time\n- Better query performance especially for larger datasets"
     },
     "metadata": {},
     "output_type": "display_data"
    }
   ],
   "execution_count": 34
  },
  {
   "metadata": {
    "ExecuteTime": {
     "end_time": "2025-02-07T02:11:50.170278Z",
     "start_time": "2025-02-07T02:11:50.167782Z"
    }
   },
   "cell_type": "code",
   "source": [
    "follow_up_question = \"\"\"\n",
    "Why genres_1_poster_1 index was not selected?\n",
    "\"\"\""
   ],
   "id": "14547f85703cd885",
   "outputs": [],
   "execution_count": 35
  },
  {
   "metadata": {
    "ExecuteTime": {
     "end_time": "2025-02-07T02:12:05.446630Z",
     "start_time": "2025-02-07T02:11:50.182294Z"
    }
   },
   "cell_type": "code",
   "source": [
    "# Chat\n",
    "context.extend([\n",
    "    {\n",
    "        \"role\": \"user\",\n",
    "        \"content\": follow_up_question,\n",
    "    }\n",
    "])\n",
    "response = anthropic_client.messages.create(\n",
    "    max_tokens=1024,\n",
    "    messages=context,\n",
    "    model=\"claude-3-5-sonnet-latest\",\n",
    ")\n",
    "\n",
    "display(Markdown(response.content[0].text))\n",
    "\n",
    "context.extend([\n",
    "    {\n",
    "        \"role\": \"assistant\",\n",
    "        \"content\": response.content[0].text,\n",
    "    }\n",
    "])"
   ],
   "id": "f89a803b741d442a",
   "outputs": [
    {
     "data": {
      "text/plain": [
       "<IPython.core.display.Markdown object>"
      ],
      "text/markdown": "# Index Selection Analysis\n\n## Why `genres_1_poster_1` wasn't selected\n\n1. **Partial Index Coverage**\n   - While the index includes `genres` which is one part of the \\$or condition, it also includes `poster` which isn't relevant to this query\n   - For \\$or queries, MongoDB needs an index that can efficiently satisfy each clause of the \\$or\n\n2. **\\$or Operator Behavior**\n   - The query contains two \\$or conditions:\n     ```javascript\n     \"$or\": [\n       {\"genres\": \"Animation\"},\n       {\"year\": 2000}\n     ]\n     ```\n   - The `genres_1_poster_1` index can only satisfy the first condition (`genres: \"Animation\"`)\n   - There's no index available for the second condition (`year: 2000`)\n   - When MongoDB can't find indexes to support all \\$or conditions efficiently, it often falls back to a collection scan\n\n3. **Query Planner Decision**\n   - The query planner determined that using the `genres_1_poster_1` index for just one part of the \\$or would be less efficient than a simple collection scan\n   - This is because:\n     - It would need to perform an index scan for `genres` condition\n     - Plus a collection scan for the `year` condition\n     - Then merge the results\n     - This could be more expensive than a single collection scan\n\n## How to Fix\n\n1. **Create a compound index that covers both conditions:**\n   ```javascript\n   { \"genres\": 1, \"year\": 1 }\n   ```\n\n2. **Or create separate indexes for both fields:**\n   ```javascript\n   { \"genres\": 1 }\n   { \"year\": 1 }\n   ```\n   - This would allow MongoDB to use index intersection or choose the most selective index for each \\$or clause\n\n3. **Alternative Query Approach:**\n   - Split the query into two separate queries if possible:\n     ```javascript\n     const animationResults = db.movies.find({\"genres\": \"Animation\"});\n     const year2000Results = db.movies.find({\"year\": 2000});\n     ```\n   - This would allow better use of indexes and potentially better performance\n\nRemember: MongoDB's query planner makes decisions based on statistics and cost estimates. Sometimes a collection scan is chosen because it's estimated to be more efficient than partial index usage combined with additional operations."
     },
     "metadata": {},
     "output_type": "display_data"
    }
   ],
   "execution_count": 36
  }
 ],
 "metadata": {
  "kernelspec": {
   "display_name": "Python 3 (ipykernel)",
   "language": "python",
   "name": "python3"
  },
  "language_info": {
   "codemirror_mode": {
    "name": "ipython",
    "version": 3
   },
   "file_extension": ".py",
   "mimetype": "text/x-python",
   "name": "python",
   "nbconvert_exporter": "python",
   "pygments_lexer": "ipython3",
   "version": "3.9.6"
  }
 },
 "nbformat": 4,
 "nbformat_minor": 5
}
