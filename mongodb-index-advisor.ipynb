{
 "cells": [
  {
   "metadata": {
    "ExecuteTime": {
     "end_time": "2025-02-06T20:10:53.879755Z",
     "start_time": "2025-02-06T20:10:53.876794Z"
    }
   },
   "cell_type": "code",
   "source": [
    "# Connect to a specific database\n",
    "cluster_name = \"echo\"\n",
    "database_name = \"sample_mflix\"\n",
    "collection_name = \"movies\""
   ],
   "id": "da57151f73828656",
   "outputs": [],
   "execution_count": 1
  },
  {
   "cell_type": "code",
   "id": "cb01c79c57053f7f",
   "metadata": {
    "ExecuteTime": {
     "end_time": "2025-02-06T20:10:56.710041Z",
     "start_time": "2025-02-06T20:10:56.173018Z"
    }
   },
   "source": [
    "# Init\n",
    "import json\n",
    "import os\n",
    "\n",
    "import requests\n",
    "from IPython.core.display import Markdown\n",
    "# https://github.com/anthropics/anthropic-sdk-python\n",
    "from anthropic import Anthropic\n",
    "from bs4 import BeautifulSoup\n",
    "from dotenv import load_dotenv\n",
    "from pymongo.mongo_client import MongoClient\n",
    "\n",
    "# Load env variables for MongoDB Atlas CLI, MongoDB database client and Anthropic client\n",
    "load_dotenv()\n",
    "uri = os.getenv(\"MONGO_URI\")\n",
    "\n",
    "# Create MongoBD Client, point to a specific database/collection\n",
    "mongodb_client = MongoClient(uri)\n",
    "namespace = database_name + \".\" + collection_name\n",
    "db = mongodb_client[database_name][collection_name]\n",
    "\n",
    "# Create Anthropic client\n",
    "anthropic_client = Anthropic()\n",
    "base_context = []"
   ],
   "outputs": [],
   "execution_count": 2
  },
  {
   "metadata": {},
   "cell_type": "markdown",
   "source": "## MongoDB Context",
   "id": "f9d92c0240611e81"
  },
  {
   "metadata": {
    "ExecuteTime": {
     "end_time": "2025-02-06T20:11:00.682516Z",
     "start_time": "2025-02-06T20:11:00.680403Z"
    }
   },
   "cell_type": "code",
   "source": [
    "docs = [\n",
    "    \"https://www.mongodb.com/docs/manual/tutorial/equality-sort-range-rule/\",\n",
    "    \"https://www.mongodb.com/docs/manual/reference/explain-results/\",\n",
    "    \"https://www.mongodb.com/docs/manual/tutorial/analyze-query-plan/\",\n",
    "    \"https://www.mongodb.com/docs/manual/tutorial/optimize-query-performance-with-indexes-and-projections/\",\n",
    "    \"https://www.mongodb.com/docs/atlas/performance-advisor/\",\n",
    "    \"https://www.mongodb.com/docs/atlas/performance-advisor/index-ranking/\",\n",
    "    \"https://www.mongodb.com/docs/manual/reference/operator/aggregation/indexStats/\",\n",
    "    \"https://www.mongodb.com/docs/cloud-manager/reference/api/performance-advisor/get-suggested-indexes/\"\n",
    "]"
   ],
   "id": "1b112acc449b5acb",
   "outputs": [],
   "execution_count": 3
  },
  {
   "metadata": {
    "ExecuteTime": {
     "end_time": "2025-02-06T20:11:06.625278Z",
     "start_time": "2025-02-06T20:11:03.849111Z"
    }
   },
   "cell_type": "code",
   "source": [
    "# Add to context\n",
    "def webpage_as_context(url):\n",
    "    response = requests.get(url)\n",
    "\n",
    "    soup = BeautifulSoup(response.text, 'html.parser')\n",
    "    body = soup.select('div.body')[0]\n",
    "    text = body.get_text(separator=\" \", strip=True)\n",
    "\n",
    "    return {\n",
    "        \"role\": \"user\",\n",
    "        \"content\": f\"MongoDB documentation from {url}\\n{text}\",\n",
    "    }\n",
    "\n",
    "\n",
    "base_context = []\n",
    "for url in docs:\n",
    "    context_message = webpage_as_context(url)\n",
    "    base_context.append(context_message)\n"
   ],
   "id": "8de2a737472e3676",
   "outputs": [],
   "execution_count": 4
  },
  {
   "metadata": {},
   "cell_type": "markdown",
   "source": "## Indexes",
   "id": "40199057a7f53178"
  },
  {
   "metadata": {
    "ExecuteTime": {
     "end_time": "2025-02-06T20:11:10.141982Z",
     "start_time": "2025-02-06T20:11:10.139411Z"
    }
   },
   "cell_type": "code",
   "source": [
    "designed_indexes = [\n",
    "    {'_id': 1},\n",
    "    {'_fts': 'text', '_ftsx': 1},\n",
    "    {'genres': 1},\n",
    "    {'text': 1},\n",
    "    {'year': 1},\n",
    "    {'type': 1, 'imdb.rating': -1, 'year': 1}\n",
    "]"
   ],
   "id": "7daae9bdb197aeb6",
   "outputs": [],
   "execution_count": 5
  },
  {
   "metadata": {
    "ExecuteTime": {
     "end_time": "2025-02-06T20:11:30.710038Z",
     "start_time": "2025-02-06T20:11:24.632301Z"
    }
   },
   "cell_type": "code",
   "source": [
    "# Organize indexes\n",
    "\n",
    "# Designed indexes\n",
    "designed_indexes = [str(index_definition) for index_definition in designed_indexes]\n",
    "\n",
    "# Current indexes in database\n",
    "# https://www.mongodb.com/docs/manual/reference/operator/aggregation/indexStats/\n",
    "current_indexes = []\n",
    "index_stats = list(db.aggregate([{\"$indexStats\": {}}]))\n",
    "\n",
    "for idx in index_stats:\n",
    "    current_indexes.append(str(idx[\"key\"]))\n",
    "\n",
    "# Suggested indexes\n",
    "# API details: https://www.mongodb.com/docs/cloud-manager/reference/api/performance-advisor/get-suggested-indexes/\n",
    "suggested_indexes = set()\n",
    "suggested_indexes_details = []\n",
    "\n",
    "# CLI https://www.mongodb.com/docs/atlas/cli/current/command/atlas-clusters-list/\n",
    "clusters_raw = !atlas clusters list -o json\n",
    "clusters = json.loads(clusters_raw.s)[\"results\"]\n",
    "cluster = None\n",
    "\n",
    "for c in clusters:\n",
    "    if cluster_name == c[\"name\"]:\n",
    "        cluster = c\n",
    "        break\n",
    "cluster_hosts = cluster[\"connectionStrings\"][\"standard\"].split(\"/\")[2].split(\",\")\n",
    "\n",
    "# CLI https://www.mongodb.com/docs/atlas/cli/current/command/atlas-performanceAdvisor-suggestedIndexes/\n",
    "for host in cluster_hosts:\n",
    "    index_suggestions_raw = !atlas performanceAdvisor suggestedIndexes list --processName {host} -o json\n",
    "    index_suggestions = json.loads(index_suggestions_raw.s)\n",
    "\n",
    "    for suggestion in index_suggestions[\"suggestedIndexes\"]:\n",
    "        if namespace not in suggestion[\"namespace\"]: continue\n",
    "\n",
    "        index_definition = {}\n",
    "        for record in suggestion[\"index\"]:\n",
    "            index_definition.update(record)\n",
    "\n",
    "        if str(index_definition) in suggested_indexes:\n",
    "            continue\n",
    "\n",
    "        suggested_indexes.add(str(index_definition))\n",
    "\n",
    "        sample_queries = []\n",
    "        for sample_query in index_suggestions[\"shapes\"]:\n",
    "            if sample_query[\"id\"] in suggestion[\"impact\"]:\n",
    "                del sample_query[\"operations\"][0][\"stats\"][\"ts\"]\n",
    "                suggested_indexes_details.append({\n",
    "                    \"index_definition\": index_definition,\n",
    "                    \"sample_query\": json.dumps(sample_query[\"operations\"][0][\"predicates\"]),\n",
    "                    \"query_count\": sample_query[\"count\"],\n",
    "                    \"stats\": json.dumps(sample_query[\"operations\"][0][\"stats\"])\n",
    "                })\n",
    "                # Extract a single query example in index recommendation\n",
    "                break\n",
    "\n",
    "# Compose index summary\n",
    "message = \"Designed indexes:\\n\"\n",
    "\n",
    "for idx in designed_indexes:\n",
    "    status = \"\\033[91mx\\033[0m \"\n",
    "    if idx in current_indexes:\n",
    "        status = \"\\033[92m√\\033[0m \"\n",
    "    if idx in suggested_indexes:\n",
    "        status = \"\\033[92m+\\033[0m \"\n",
    "\n",
    "    message += status + str(idx)\n",
    "    message += \"\\n\"\n",
    "\n",
    "message += \"\\n\"\n",
    "message += \"Current indexes:\\n\"\n",
    "\n",
    "for idx in current_indexes:\n",
    "    status = \"\\033[93m?\\033[0m \"\n",
    "    if idx in designed_indexes:\n",
    "        status = \"\\033[92m√\\033[0m \"\n",
    "    if idx in suggested_indexes:\n",
    "        status = \"\\033[92m+\\033[0m \"\n",
    "\n",
    "    message += status + str(idx) + \"\\n\"\n",
    "\n",
    "message += \"\\n\"\n",
    "message += \"Suggested indexes:\\n\"\n",
    "for si in suggested_indexes_details:\n",
    "    message += \"\\033[92m+\\033[0m \" + str(si[\"index_definition\"]) + \"\\n\"\n",
    "    message += \"    query: \" + str(si[\"query_count\"]) + \" x \" + str(si[\"sample_query\"]) + \"\\n\"\n",
    "    message += \"    stats: \" + str(si[\"stats\"]) + \"\\n\\n\"\n",
    "\n",
    "print(message)"
   ],
   "id": "f4565fbcaccb53b5",
   "outputs": [
    {
     "name": "stdout",
     "output_type": "stream",
     "text": [
      "Designed indexes:\n",
      "\u001B[92m√\u001B[0m {'_id': 1}\n",
      "\u001B[92m√\u001B[0m {'_fts': 'text', '_ftsx': 1}\n",
      "\u001B[92m√\u001B[0m {'genres': 1}\n",
      "\u001B[91mx\u001B[0m {'text': 1}\n",
      "\u001B[92m√\u001B[0m {'year': 1}\n",
      "\u001B[91mx\u001B[0m {'type': 1, 'imdb.rating': -1, 'year': 1}\n",
      "\n",
      "Current indexes:\n",
      "\u001B[92m√\u001B[0m {'_id': 1}\n",
      "\u001B[92m√\u001B[0m {'genres': 1}\n",
      "\u001B[92m√\u001B[0m {'year': 1}\n",
      "\u001B[92m√\u001B[0m {'_fts': 'text', '_ftsx': 1}\n",
      "\u001B[93m?\u001B[0m {'genres': 1, 'poster': 1}\n",
      "\n",
      "Suggested indexes:\n",
      "\n"
     ]
    }
   ],
   "execution_count": 6
  },
  {
   "metadata": {},
   "cell_type": "markdown",
   "source": "## Queries",
   "id": "7071614b0cd14531"
  },
  {
   "metadata": {},
   "cell_type": "markdown",
   "source": [
    "#### 1. Find movies by type, year, sort by imdb.rating\n",
    "Index `{'type': 1, 'imdb.rating': -1, 'year': 1}`"
   ],
   "id": "41517223fa421a95"
  },
  {
   "metadata": {
    "ExecuteTime": {
     "end_time": "2025-02-06T20:11:37.611894Z",
     "start_time": "2025-02-06T20:11:37.609693Z"
    }
   },
   "cell_type": "code",
   "source": [
    "pipeline = [\n",
    "    {\"$match\": {\n",
    "        \"type\": \"movie\",\n",
    "        \"year\": {\"$in\": [2010, 2011, 2012, 2013, 2014, 2015]}\n",
    "    }},\n",
    "    {\"$sort\": {\"imdb.rating\": -1}},\n",
    "    {\"$limit\": 10000}\n",
    "]"
   ],
   "id": "8526f6654ca54bff",
   "outputs": [],
   "execution_count": 7
  },
  {
   "metadata": {},
   "cell_type": "markdown",
   "source": [
    "#### 2. Find movies with missing poster by genre\n",
    "\n",
    "Index `{'genres': 1}`\n",
    "\n"
   ],
   "id": "3484139aa153100d"
  },
  {
   "metadata": {},
   "cell_type": "code",
   "source": [
    "pipeline = [\n",
    "    {\"$match\": {\n",
    "        \"genres\": {\"$in\": [\"Animation\", \"Short\"]},\n",
    "        \"poster\": {\"$exists\": \"false\"}\n",
    "    }},\n",
    "    {\"$project\": {\"_id\": 1, \"title\": 1}}\n",
    "]"
   ],
   "id": "728910de1a1cd828",
   "outputs": [],
   "execution_count": null
  },
  {
   "metadata": {},
   "cell_type": "markdown",
   "source": [
    "#### 3. Aggregation with an $or operator\n",
    "Indexes: `{'year': 1}`, `{'genres': 1}`"
   ],
   "id": "469a2063afa7f1ab"
  },
  {
   "metadata": {},
   "cell_type": "code",
   "source": [
    "pipeline = [\n",
    "    {\"$match\": {\n",
    "        \"$or\": [{\"year\": 2000}, {\"genres\": \"Animation\"}]\n",
    "    }},\n",
    "    {\"$project\": {\"_id\": 1, \"title\": 1}}\n",
    "]"
   ],
   "id": "85c7a24230247479",
   "outputs": [],
   "execution_count": null
  },
  {
   "metadata": {},
   "cell_type": "markdown",
   "source": "## Query explain",
   "id": "25c70f11192cde00"
  },
  {
   "metadata": {
    "ExecuteTime": {
     "end_time": "2025-02-06T20:11:48.808665Z",
     "start_time": "2025-02-06T20:11:42.475075Z"
    }
   },
   "cell_type": "code",
   "source": [
    "# Explain query\n",
    "# https://www.mongodb.com/docs/manual/reference/explain-results/\n",
    "explain = mongodb_client.get_database(database_name).command(\n",
    "    'explain',\n",
    "    {\n",
    "        'aggregate': collection_name,\n",
    "        'pipeline': pipeline,\n",
    "        'cursor': {}\n",
    "    },\n",
    "    verbosity='allPlansExecution'\n",
    ")\n",
    "\n",
    "context = base_context.copy()\n",
    "context.extend([\n",
    "    {\n",
    "        \"role\": \"user\",\n",
    "        \"content\": f\"Format a json explain plan using a template. Use markdown format for output. Do not provide text summary in the end \",\n",
    "    },\n",
    "    {\n",
    "        \"role\": \"user\",\n",
    "        \"content\": \"\"\"Template:\n",
    "### Query Overview\n",
    "```\n",
    "nReturned: 7345\n",
    "executionTimeMillis: 16\n",
    "totalKeysExamined: 7465\n",
    "totalDocsExamined: 7345\n",
    "```\n",
    "\n",
    "### Indexes Used\n",
    "```\n",
    "- genres_1: {genres: 1}\n",
    "- year_1: {year: 1}\n",
    "```\n",
    "\n",
    "### Execution Stages\n",
    "```\n",
    "SUBPLAN\n",
    "└── PROJECTION_SIMPLE\n",
    "    └── FETCH\n",
    "        └── OR\n",
    "            ├── IXSCAN (genres_1)\n",
    "            │   nReturned: 4560\n",
    "            │   keysExamined: 4560\n",
    "            │\n",
    "            └── IXSCAN (year_1)\n",
    "                nReturned: 2905\n",
    "                keysExamined: 2905\n",
    "```\"\"\",\n",
    "    },\n",
    "    {\n",
    "        \"role\": \"user\",\n",
    "        \"content\": f\"Query explain: {explain}\",\n",
    "    }\n",
    "])\n",
    "response = anthropic_client.messages.create(\n",
    "    max_tokens=1024,\n",
    "    messages=context,\n",
    "    model=\"claude-3-5-sonnet-latest\",\n",
    ")\n",
    "\n",
    "display(Markdown(response.content[0].text))"
   ],
   "id": "4cb4176e134374e6",
   "outputs": [
    {
     "data": {
      "text/plain": [
       "<IPython.core.display.Markdown object>"
      ],
      "text/markdown": "### Query Overview\n```\nnReturned: 10000\nexecutionTimeMillis: 111\ntotalKeysExamined: 26861\ntotalDocsExamined: 26860\n```\n\n### Indexes Used\n```\n- year_1: {year: 1}\n```\n\n### Execution Stages\n```\nSORT (imdb.rating: -1)\n└── FETCH\n    └── filter: {type: \"movie\"}\n    └── IXSCAN (year_1)\n        indexBounds: {year: [[2010,2010], [2011,2011], [2012,2012], \n                            [2013,2013], [2014,2014], [2015,2015]]}\n        nReturned: 26860\n        keysExamined: 26861\n```"
     },
     "metadata": {},
     "output_type": "display_data"
    }
   ],
   "execution_count": 8
  },
  {
   "metadata": {
    "ExecuteTime": {
     "end_time": "2025-02-06T20:12:05.426659Z",
     "start_time": "2025-02-06T20:11:54.290427Z"
    }
   },
   "cell_type": "code",
   "source": [
    "# Measure end-to-end execution time\n",
    "time = %timeit -o list(db.aggregate(pipeline=pipeline))"
   ],
   "id": "1e17951728927fe6",
   "outputs": [
    {
     "name": "stdout",
     "output_type": "stream",
     "text": [
      "1.37 s ± 101 ms per loop (mean ± std. dev. of 7 runs, 1 loop each)\n"
     ]
    }
   ],
   "execution_count": 9
  },
  {
   "metadata": {
    "ExecuteTime": {
     "end_time": "2025-02-06T20:12:20.719820Z",
     "start_time": "2025-02-06T20:12:09.328240Z"
    }
   },
   "cell_type": "code",
   "source": [
    "# Generate summary\n",
    "context = base_context.copy()\n",
    "context.extend([\n",
    "    {\n",
    "        \"role\": \"user\",\n",
    "        \"content\": f\"Act as a MongoDB advisor. You will be provided with information on indexes, example query that is being evaluated and a query explain plan. Provide a brief summary of explain plan, recommendations for query performance and indexes. Use markdown format for output, escape $ $ character sequence in markdown if it's not in the code block.\",\n",
    "    },\n",
    "    {\n",
    "        \"role\": \"user\",\n",
    "        \"content\": f\"Current indexes: {current_indexes}, designed indexes: {designed_indexes}, suggested indexes: {suggested_indexes_details}\",\n",
    "    },\n",
    "    {\n",
    "        \"role\": \"user\",\n",
    "        \"content\": f\"Index stats: {index_stats}\",\n",
    "    },\n",
    "    {\n",
    "        \"role\": \"user\",\n",
    "        \"content\": f\"Query: {pipeline}\",\n",
    "    },\n",
    "    {\n",
    "        \"role\": \"user\",\n",
    "        \"content\": f\"Query explain: {explain}\",\n",
    "    },\n",
    "    {\n",
    "        \"role\": \"user\",\n",
    "        \"content\": f\"Execution time on on the client side: {time}\",\n",
    "    }\n",
    "])\n",
    "response = anthropic_client.messages.create(\n",
    "    max_tokens=1024,\n",
    "    messages=context,\n",
    "    model=\"claude-3-5-sonnet-latest\",\n",
    ")\n",
    "\n",
    "display(Markdown(response.content[0].text))\n",
    "context.extend([\n",
    "    {\n",
    "        \"role\": \"assistant\",\n",
    "        \"content\": response.content[0].text,\n",
    "    }\n",
    "])"
   ],
   "id": "70b081f66ce9bc02",
   "outputs": [
    {
     "data": {
      "text/plain": [
       "<IPython.core.display.Markdown object>"
      ],
      "text/markdown": "# Query Analysis and Recommendations\n\n## Explain Plan Summary\n- Query uses IXSCAN on `year_1` index to find movies from 2010-2015\n- Performs FETCH to get full documents and filter by `type: \"movie\"`\n- Uses SORT stage for sorting by `imdb.rating` descending\n- Examined 26,861 index keys and 26,860 documents\n- Returned 10,000 documents\n- Total execution time: 111ms on server side, ~1.37s on client side\n\n## Performance Observations\n1. Query scans more documents (26,860) than needed (10,000) because filtering on `type: \"movie\"` happens after index scan\n2. In-memory sort required for `imdb.rating` which could be expensive for large result sets\n3. Large difference between server (111ms) and client (1.37s) time indicates network transfer overhead\n\n## Recommendations\n\n### Index Recommendations\nCreate a compound index to better support the query:\n```javascript\n{ \"type\": 1, \"year\": 1, \"imdb.rating\": -1 }\n```\n\nBenefits:\n- Supports filtering on both `type` and `year` fields\n- Provides sorting order for `imdb.rating`\n- Eliminates need for separate sort stage\n- Reduces number of documents examined\n\n### Query Optimization\n1. Consider reducing limit if you don't need all 10,000 documents\n2. Use projection to include only needed fields if full documents aren't required\n3. Consider breaking large result sets into smaller batches\n\n### Current Index Usage\nMost accessed indexes:\n- `genres_1`: 128 ops\n- `year_1`: 16 ops\n- Other indexes show minimal usage\n\nConsider removing unused indexes like `genres_1_poster_1` (0 ops) to reduce write overhead unless needed for other queries.\n\n## ESR (Equality, Sort, Range) Rule Application\nThe suggested compound index follows the ESR rule:\n- Equality: `type`\n- Sort: `imdb.rating`\n- Range: `year`\n\nThis ordering will provide optimal query performance for this specific query pattern."
     },
     "metadata": {},
     "output_type": "display_data"
    }
   ],
   "execution_count": 10
  },
  {
   "metadata": {
    "ExecuteTime": {
     "end_time": "2025-02-06T20:12:30.953380Z",
     "start_time": "2025-02-06T20:12:30.951357Z"
    }
   },
   "cell_type": "code",
   "source": "follow_up_question = \"Are there indexes that were considered but rejected for this query?\"",
   "id": "14547f85703cd885",
   "outputs": [],
   "execution_count": 11
  },
  {
   "metadata": {
    "ExecuteTime": {
     "end_time": "2025-02-06T20:12:43.201050Z",
     "start_time": "2025-02-06T20:12:32.313286Z"
    }
   },
   "cell_type": "code",
   "source": [
    "# Chat\n",
    "context.extend([\n",
    "    {\n",
    "        \"role\": \"user\",\n",
    "        \"content\": follow_up_question,\n",
    "    }\n",
    "])\n",
    "response = anthropic_client.messages.create(\n",
    "    max_tokens=1024,\n",
    "    messages=context,\n",
    "    model=\"claude-3-5-sonnet-latest\",\n",
    ")\n",
    "\n",
    "display(Markdown(response.content[0].text))\n",
    "\n",
    "context.extend([\n",
    "    {\n",
    "        \"role\": \"assistant\",\n",
    "        \"content\": response.content[0].text,\n",
    "    }\n",
    "])"
   ],
   "id": "f89a803b741d442a",
   "outputs": [
    {
     "data": {
      "text/plain": [
       "<IPython.core.display.Markdown object>"
      ],
      "text/markdown": "Based on the explain plan output, there were no rejected plans - we can see this from the empty `rejectedPlans` array in the explain output:\n\n```javascript\n'rejectedPlans': []\n```\n\nThis means the query optimizer only considered one plan using the `year_1` index and didn't evaluate any alternative index plans. This can happen for a few reasons:\n\n1. No other existing indexes could provide a viable alternative plan for this query\n2. The query planner determined early that other indexes would be less efficient\n\nLooking at the available indexes:\n```\nCurrent indexes:\n- {'_id': 1}\n- {'genres': 1}\n- {'year': 1}\n- {'_fts': 'text', '_ftsx': 1}\n- {'genres': 1, 'poster': 1}\n```\n\nNone of these alternatives would be better than `year_1` because:\n- `_id` index doesn't help with the query conditions\n- `genres` indexes aren't relevant to the query predicates\n- Text index can only be used for text search queries\n- The compound index on `{genres: 1, poster: 1}` doesn't include any of the queried fields\n\nIn MongoDB, the query planner uses a process called \"index intersection\" where it can sometimes use multiple indexes for a single query. However, in this case:\n1. The requirement to sort by `imdb.rating`\n2. The range condition on `year`\n3. The equality match on `type`\n\nThese requirements make index intersection less efficient than a single well-designed compound index, which is why I recommended the compound index `{ \"type\": 1, \"year\": 1, \"imdb.rating\": -1 }` in the previous analysis.\n\nFor future analysis, you can force MongoDB to consider specific indexes using `hint()` if you want to compare different index strategies. For example:\n```javascript\ndb.movies.explain(\"executionStats\").aggregate([\n  {$match: {type: \"movie\", year: {$in: [2010,2011,2012,2013,2014,2015]}}},\n  {$sort: {\"imdb.rating\": -1}},\n  {$limit: 10000}\n]).hint(\"year_1\")\n```"
     },
     "metadata": {},
     "output_type": "display_data"
    }
   ],
   "execution_count": 12
  }
 ],
 "metadata": {
  "kernelspec": {
   "display_name": "Python 3 (ipykernel)",
   "language": "python",
   "name": "python3"
  },
  "language_info": {
   "codemirror_mode": {
    "name": "ipython",
    "version": 3
   },
   "file_extension": ".py",
   "mimetype": "text/x-python",
   "name": "python",
   "nbconvert_exporter": "python",
   "pygments_lexer": "ipython3",
   "version": "3.9.6"
  }
 },
 "nbformat": 4,
 "nbformat_minor": 5
}
