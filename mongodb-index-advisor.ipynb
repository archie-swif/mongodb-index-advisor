{
 "cells": [
  {
   "metadata": {
    "ExecuteTime": {
     "end_time": "2025-02-06T20:28:57.229824Z",
     "start_time": "2025-02-06T20:28:57.227485Z"
    }
   },
   "cell_type": "code",
   "source": [
    "# Connect to a specific database\n",
    "cluster_name = \"echo\"\n",
    "database_name = \"sample_mflix\"\n",
    "collection_name = \"movies\""
   ],
   "id": "da57151f73828656",
   "outputs": [],
   "execution_count": 21
  },
  {
   "cell_type": "code",
   "id": "cb01c79c57053f7f",
   "metadata": {
    "ExecuteTime": {
     "end_time": "2025-02-06T20:28:57.469067Z",
     "start_time": "2025-02-06T20:28:57.241099Z"
    }
   },
   "source": [
    "# Init\n",
    "import json\n",
    "import os\n",
    "\n",
    "import requests\n",
    "from IPython.core.display import Markdown\n",
    "# https://github.com/anthropics/anthropic-sdk-python\n",
    "from anthropic import Anthropic\n",
    "from bs4 import BeautifulSoup\n",
    "from dotenv import load_dotenv\n",
    "from pymongo.mongo_client import MongoClient\n",
    "\n",
    "# Load env variables for MongoDB Atlas CLI, MongoDB database client and Anthropic client\n",
    "load_dotenv()\n",
    "uri = os.getenv(\"MONGO_URI\")\n",
    "\n",
    "# Create MongoBD Client, point to a specific database/collection\n",
    "mongodb_client = MongoClient(uri)\n",
    "namespace = database_name + \".\" + collection_name\n",
    "db = mongodb_client[database_name][collection_name]\n",
    "\n",
    "# Create Anthropic client\n",
    "anthropic_client = Anthropic()\n",
    "base_context = []"
   ],
   "outputs": [],
   "execution_count": 22
  },
  {
   "metadata": {},
   "cell_type": "markdown",
   "source": "## MongoDB Context",
   "id": "f9d92c0240611e81"
  },
  {
   "metadata": {
    "ExecuteTime": {
     "end_time": "2025-02-06T20:28:57.473820Z",
     "start_time": "2025-02-06T20:28:57.472146Z"
    }
   },
   "cell_type": "code",
   "source": [
    "docs = [\n",
    "    \"https://www.mongodb.com/docs/manual/tutorial/equality-sort-range-rule/\",\n",
    "    \"https://www.mongodb.com/docs/manual/reference/explain-results/\",\n",
    "    \"https://www.mongodb.com/docs/manual/tutorial/analyze-query-plan/\",\n",
    "    \"https://www.mongodb.com/docs/manual/tutorial/optimize-query-performance-with-indexes-and-projections/\",\n",
    "    \"https://www.mongodb.com/docs/atlas/performance-advisor/\",\n",
    "    \"https://www.mongodb.com/docs/atlas/performance-advisor/index-ranking/\",\n",
    "    \"https://www.mongodb.com/docs/manual/reference/operator/aggregation/indexStats/\",\n",
    "    \"https://www.mongodb.com/docs/cloud-manager/reference/api/performance-advisor/get-suggested-indexes/\"\n",
    "]"
   ],
   "id": "1b112acc449b5acb",
   "outputs": [],
   "execution_count": 23
  },
  {
   "metadata": {
    "ExecuteTime": {
     "end_time": "2025-02-06T20:29:00.099804Z",
     "start_time": "2025-02-06T20:28:57.479504Z"
    }
   },
   "cell_type": "code",
   "source": [
    "# Add to context\n",
    "def webpage_as_context(url):\n",
    "    response = requests.get(url)\n",
    "\n",
    "    soup = BeautifulSoup(response.text, 'html.parser')\n",
    "    body = soup.select('div.body')[0]\n",
    "    text = body.get_text(separator=\" \", strip=True)\n",
    "\n",
    "    return {\n",
    "        \"role\": \"user\",\n",
    "        \"content\": f\"MongoDB documentation from {url}\\n{text}\",\n",
    "    }\n",
    "\n",
    "\n",
    "base_context = []\n",
    "for url in docs:\n",
    "    context_message = webpage_as_context(url)\n",
    "    base_context.append(context_message)\n"
   ],
   "id": "8de2a737472e3676",
   "outputs": [],
   "execution_count": 24
  },
  {
   "metadata": {},
   "cell_type": "markdown",
   "source": "## Indexes",
   "id": "40199057a7f53178"
  },
  {
   "metadata": {
    "ExecuteTime": {
     "end_time": "2025-02-06T20:29:00.107793Z",
     "start_time": "2025-02-06T20:29:00.105889Z"
    }
   },
   "cell_type": "code",
   "source": [
    "designed_indexes = [\n",
    "    {'_id': 1},\n",
    "    {'_fts': 'text', '_ftsx': 1},\n",
    "    {'genres': 1},\n",
    "    {'text': 1},\n",
    "    {'year': 1},\n",
    "    {'type': 1, 'imdb.rating': -1, 'year': 1}\n",
    "]"
   ],
   "id": "7daae9bdb197aeb6",
   "outputs": [],
   "execution_count": 25
  },
  {
   "metadata": {
    "ExecuteTime": {
     "end_time": "2025-02-06T20:32:13.798597Z",
     "start_time": "2025-02-06T20:32:07.676816Z"
    }
   },
   "cell_type": "code",
   "source": [
    "# Organize indexes\n",
    "\n",
    "# Designed indexes\n",
    "designed_indexes = [str(index_definition) for index_definition in designed_indexes]\n",
    "\n",
    "# Current indexes in database\n",
    "# https://www.mongodb.com/docs/manual/reference/operator/aggregation/indexStats/\n",
    "current_indexes = []\n",
    "index_stats = list(db.aggregate([{\"$indexStats\": {}}]))\n",
    "\n",
    "for idx in index_stats:\n",
    "    current_indexes.append(str(idx[\"key\"]))\n",
    "\n",
    "# Suggested indexes\n",
    "# API details: https://www.mongodb.com/docs/cloud-manager/reference/api/performance-advisor/get-suggested-indexes/\n",
    "suggested_indexes = set()\n",
    "suggested_indexes_details = []\n",
    "\n",
    "# CLI https://www.mongodb.com/docs/atlas/cli/current/command/atlas-clusters-list/\n",
    "clusters_raw = !atlas clusters list -o json\n",
    "clusters = json.loads(clusters_raw.s)[\"results\"]\n",
    "cluster = None\n",
    "\n",
    "for c in clusters:\n",
    "    if cluster_name == c[\"name\"]:\n",
    "        cluster = c\n",
    "        break\n",
    "cluster_hosts = cluster[\"connectionStrings\"][\"standard\"].split(\"/\")[2].split(\",\")\n",
    "\n",
    "# CLI https://www.mongodb.com/docs/atlas/cli/current/command/atlas-performanceAdvisor-suggestedIndexes/\n",
    "for host in cluster_hosts:\n",
    "    index_suggestions_raw = !atlas performanceAdvisor suggestedIndexes list --processName {host} -o json\n",
    "    index_suggestions = json.loads(index_suggestions_raw.s)\n",
    "\n",
    "    for suggestion in index_suggestions[\"suggestedIndexes\"]:\n",
    "        if namespace not in suggestion[\"namespace\"]: continue\n",
    "\n",
    "        index_definition = {}\n",
    "        for record in suggestion[\"index\"]:\n",
    "            index_definition.update(record)\n",
    "\n",
    "        if str(index_definition) in suggested_indexes:\n",
    "            continue\n",
    "\n",
    "        suggested_indexes.add(str(index_definition))\n",
    "\n",
    "        sample_queries = []\n",
    "        for sample_query in index_suggestions[\"shapes\"]:\n",
    "            if sample_query[\"id\"] in suggestion[\"impact\"]:\n",
    "                del sample_query[\"operations\"][0][\"stats\"][\"ts\"]\n",
    "                suggested_indexes_details.append({\n",
    "                    \"index_definition\": index_definition,\n",
    "                    \"sample_query\": json.dumps(sample_query[\"operations\"][0][\"predicates\"]),\n",
    "                    \"query_count\": sample_query[\"count\"],\n",
    "                    \"stats\": json.dumps(sample_query[\"operations\"][0][\"stats\"])\n",
    "                })\n",
    "                # Extract a single query example in index recommendation\n",
    "                break\n",
    "\n",
    "# Compose index summary\n",
    "message = \"Designed indexes:\\n\"\n",
    "\n",
    "for idx in designed_indexes:\n",
    "    status = \"\\033[91mx\\033[0m \"\n",
    "    if idx in current_indexes:\n",
    "        status = \"\\033[92m√\\033[0m \"\n",
    "    if idx in suggested_indexes:\n",
    "        status = \"\\033[91m+\\033[0m \"\n",
    "\n",
    "    message += status + str(idx)\n",
    "    message += \"\\n\"\n",
    "\n",
    "message += \"\\n\"\n",
    "message += \"Current indexes:\\n\"\n",
    "\n",
    "for idx in current_indexes:\n",
    "    status = \"\\033[93m?\\033[0m \"\n",
    "    if idx in designed_indexes:\n",
    "        status = \"\\033[92m√\\033[0m \"\n",
    "    if idx in suggested_indexes:\n",
    "        status = \"\\033[92m+\\033[0m \"\n",
    "\n",
    "    message += status + str(idx) + \"\\n\"\n",
    "\n",
    "message += \"\\n\"\n",
    "message += \"Suggested indexes:\\n\"\n",
    "for si in suggested_indexes_details:\n",
    "    message += \"\\033[92m+\\033[0m \" + str(si[\"index_definition\"]) + \"\\n\"\n",
    "    message += \"    query: \" + str(si[\"query_count\"]) + \" x \" + str(si[\"sample_query\"]) + \"\\n\"\n",
    "    message += \"    stats: \" + str(si[\"stats\"]) + \"\\n\\n\"\n",
    "\n",
    "print(message)"
   ],
   "id": "f4565fbcaccb53b5",
   "outputs": [
    {
     "name": "stdout",
     "output_type": "stream",
     "text": [
      "Designed indexes:\n",
      "\u001B[92m√\u001B[0m {'_id': 1}\n",
      "\u001B[92m√\u001B[0m {'_fts': 'text', '_ftsx': 1}\n",
      "\u001B[92m√\u001B[0m {'genres': 1}\n",
      "\u001B[91mx\u001B[0m {'text': 1}\n",
      "\u001B[92m√\u001B[0m {'year': 1}\n",
      "\u001B[91m+\u001B[0m {'type': 1, 'imdb.rating': -1, 'year': 1}\n",
      "\n",
      "Current indexes:\n",
      "\u001B[92m√\u001B[0m {'_id': 1}\n",
      "\u001B[92m√\u001B[0m {'genres': 1}\n",
      "\u001B[92m√\u001B[0m {'year': 1}\n",
      "\u001B[92m√\u001B[0m {'_fts': 'text', '_ftsx': 1}\n",
      "\u001B[93m?\u001B[0m {'genres': 1, 'poster': 1}\n",
      "\n",
      "Suggested indexes:\n",
      "\u001B[92m+\u001B[0m {'type': 1, 'imdb.rating': -1, 'year': 1}\n",
      "    query: 16 x [{\"aggregate\": [{\"$match\": {\"type\": \"movie\", \"year\": {\"$in\": [{\"$numberInt\": \"2010\"}, {\"$numberInt\": \"2011\"}, {\"$numberInt\": \"2012\"}, {\"$numberInt\": \"2013\"}, {\"$numberInt\": \"2014\"}, {\"$numberInt\": \"2015\"}]}}}, {\"$sort\": {\"imdb.rating\": {\"$numberInt\": \"-1\"}}}, {\"$limit\": {\"$numberInt\": \"10000\"}}]}]\n",
      "    stats: {\"ms\": 108, \"nReturned\": 101, \"nScanned\": 26861}\n",
      "\n",
      "\n"
     ]
    }
   ],
   "execution_count": 39
  },
  {
   "metadata": {},
   "cell_type": "markdown",
   "source": "## Queries",
   "id": "7071614b0cd14531"
  },
  {
   "metadata": {},
   "cell_type": "markdown",
   "source": [
    "#### 1. Find movies by type, year, sort by imdb.rating\n",
    "Index `{'type': 1, 'imdb.rating': -1, 'year': 1}`"
   ],
   "id": "41517223fa421a95"
  },
  {
   "metadata": {
    "ExecuteTime": {
     "end_time": "2025-02-06T20:29:41.161723Z",
     "start_time": "2025-02-06T20:29:41.159683Z"
    }
   },
   "cell_type": "code",
   "source": [
    "pipeline = [\n",
    "    {\"$match\": {\n",
    "        \"type\": \"movie\",\n",
    "        \"year\": {\"$in\": [2010, 2011, 2012, 2013, 2014, 2015]}\n",
    "    }},\n",
    "    {\"$sort\": {\"imdb.rating\": -1}},\n",
    "    {\"$limit\": 10000}\n",
    "]"
   ],
   "id": "8526f6654ca54bff",
   "outputs": [],
   "execution_count": 35
  },
  {
   "metadata": {},
   "cell_type": "markdown",
   "source": [
    "#### 2. Find movies with missing poster by genre\n",
    "\n",
    "Index `{'genres': 1}`\n",
    "\n"
   ],
   "id": "3484139aa153100d"
  },
  {
   "metadata": {
    "ExecuteTime": {
     "end_time": "2025-02-06T20:35:04.331236Z",
     "start_time": "2025-02-06T20:35:04.328914Z"
    }
   },
   "cell_type": "code",
   "source": [
    "pipeline = [\n",
    "    {\"$match\": {\n",
    "        \"genres\": {\"$in\": [\"Animation\", \"Short\"]},\n",
    "        \"poster\": {\"$exists\": \"false\"}\n",
    "    }},\n",
    "    {\"$project\": {\"_id\": 1, \"title\": 1}}\n",
    "]"
   ],
   "id": "728910de1a1cd828",
   "outputs": [],
   "execution_count": 45
  },
  {
   "metadata": {},
   "cell_type": "markdown",
   "source": [
    "#### 3. Aggregation with an $or operator\n",
    "Indexes: `{'year': 1}`, `{'genres': 1}`"
   ],
   "id": "469a2063afa7f1ab"
  },
  {
   "metadata": {
    "ExecuteTime": {
     "end_time": "2025-02-06T20:29:06.108272Z",
     "start_time": "2025-02-06T20:29:06.106383Z"
    }
   },
   "cell_type": "code",
   "source": [
    "pipeline = [\n",
    "    {\"$match\": {\n",
    "        \"$or\": [{\"year\": 2000}, {\"genres\": \"Animation\"}]\n",
    "    }},\n",
    "    {\"$project\": {\"_id\": 1, \"title\": 1}}\n",
    "]"
   ],
   "id": "85c7a24230247479",
   "outputs": [],
   "execution_count": 29
  },
  {
   "metadata": {},
   "cell_type": "markdown",
   "source": "## Query explain",
   "id": "25c70f11192cde00"
  },
  {
   "metadata": {
    "ExecuteTime": {
     "end_time": "2025-02-06T20:35:18.186456Z",
     "start_time": "2025-02-06T20:35:10.914048Z"
    }
   },
   "cell_type": "code",
   "source": [
    "# Explain query\n",
    "# https://www.mongodb.com/docs/manual/reference/explain-results/\n",
    "explain = mongodb_client.get_database(database_name).command(\n",
    "    'explain',\n",
    "    {\n",
    "        'aggregate': collection_name,\n",
    "        'pipeline': pipeline,\n",
    "        'cursor': {}\n",
    "    },\n",
    "    verbosity='allPlansExecution'\n",
    ")\n",
    "\n",
    "context = base_context.copy()\n",
    "context.extend([\n",
    "    {\n",
    "        \"role\": \"user\",\n",
    "        \"content\": f\"Format a json explain plan using a template. Use markdown format for output. Do not provide text summary in the end \",\n",
    "    },\n",
    "    {\n",
    "        \"role\": \"user\",\n",
    "        \"content\": \"\"\"Template:\n",
    "### Query Overview\n",
    "```\n",
    "nReturned: 7345\n",
    "executionTimeMillis: 16\n",
    "totalKeysExamined: 7465\n",
    "totalDocsExamined: 7345\n",
    "```\n",
    "\n",
    "### Indexes Used\n",
    "```\n",
    "- genres_1: {genres: 1}\n",
    "- year_1: {year: 1}\n",
    "```\n",
    "\n",
    "### Execution Stages\n",
    "```\n",
    "SUBPLAN\n",
    "└── PROJECTION_SIMPLE\n",
    "    └── FETCH\n",
    "        └── OR\n",
    "            ├── IXSCAN (genres_1)\n",
    "            │   nReturned: 4560\n",
    "            │   keysExamined: 4560\n",
    "            │\n",
    "            └── IXSCAN (year_1)\n",
    "                nReturned: 2905\n",
    "                keysExamined: 2905\n",
    "```\"\"\",\n",
    "    },\n",
    "    {\n",
    "        \"role\": \"user\",\n",
    "        \"content\": f\"Query explain: {explain}\",\n",
    "    }\n",
    "])\n",
    "response = anthropic_client.messages.create(\n",
    "    max_tokens=1024,\n",
    "    messages=context,\n",
    "    model=\"claude-3-5-sonnet-latest\",\n",
    ")\n",
    "\n",
    "display(Markdown(response.content[0].text))"
   ],
   "id": "4cb4176e134374e6",
   "outputs": [
    {
     "data": {
      "text/plain": [
       "<IPython.core.display.Markdown object>"
      ],
      "text/markdown": "### Query Overview\n```\nnReturned: 4405\nexecutionTimeMillis: 15\ntotalKeysExamined: 6772\ntotalDocsExamined: 5715\n```\n\n### Indexes Used\n```\n- genres_1: {genres: 1}\n- genres_1_poster_1: {genres: 1, poster: 1} (rejected)\n```\n\n### Execution Stages\n```\nPROJECTION_SIMPLE (transformBy: {_id: true, title: true})\n└── FETCH (filter: {poster: {$exists: true}})\n    └── IXSCAN (genres_1)\n        nReturned: 5715\n        keysExamined: 6772\n        indexBounds: {genres: [\"Animation\", \"Short\"]}\n        isMultiKey: true\n        seeks: 2\n        dupsTested: 6770\n        dupsDropped: 1055\n```"
     },
     "metadata": {},
     "output_type": "display_data"
    }
   ],
   "execution_count": 46
  },
  {
   "metadata": {
    "ExecuteTime": {
     "end_time": "2025-02-06T20:35:26.028577Z",
     "start_time": "2025-02-06T20:35:22.834176Z"
    }
   },
   "cell_type": "code",
   "source": [
    "# Measure end-to-end execution time\n",
    "time = %timeit -o list(db.aggregate(pipeline=pipeline))"
   ],
   "id": "1e17951728927fe6",
   "outputs": [
    {
     "name": "stdout",
     "output_type": "stream",
     "text": [
      "375 ms ± 90.2 ms per loop (mean ± std. dev. of 7 runs, 1 loop each)\n"
     ]
    }
   ],
   "execution_count": 47
  },
  {
   "metadata": {
    "ExecuteTime": {
     "end_time": "2025-02-06T20:35:40.153180Z",
     "start_time": "2025-02-06T20:35:27.095910Z"
    }
   },
   "cell_type": "code",
   "source": [
    "# Generate summary\n",
    "context = base_context.copy()\n",
    "context.extend([\n",
    "    {\n",
    "        \"role\": \"user\",\n",
    "        \"content\": f\"Act as a MongoDB advisor. You will be provided with information on indexes, example query that is being evaluated and a query explain plan. Provide a brief summary of explain plan, recommendations for query performance and indexes. Use markdown format for output, escape $ $ character sequence in markdown if it's not in the code block.\",\n",
    "    },\n",
    "    {\n",
    "        \"role\": \"user\",\n",
    "        \"content\": f\"Current indexes: {current_indexes}, designed indexes: {designed_indexes}, suggested indexes: {suggested_indexes_details}\",\n",
    "    },\n",
    "    {\n",
    "        \"role\": \"user\",\n",
    "        \"content\": f\"Index stats: {index_stats}\",\n",
    "    },\n",
    "    {\n",
    "        \"role\": \"user\",\n",
    "        \"content\": f\"Query: {pipeline}\",\n",
    "    },\n",
    "    {\n",
    "        \"role\": \"user\",\n",
    "        \"content\": f\"Query explain: {explain}\",\n",
    "    },\n",
    "    {\n",
    "        \"role\": \"user\",\n",
    "        \"content\": f\"Execution time on on the client side: {time}\",\n",
    "    }\n",
    "])\n",
    "response = anthropic_client.messages.create(\n",
    "    max_tokens=1024,\n",
    "    messages=context,\n",
    "    model=\"claude-3-5-sonnet-latest\",\n",
    ")\n",
    "\n",
    "display(Markdown(response.content[0].text))\n",
    "context.extend([\n",
    "    {\n",
    "        \"role\": \"assistant\",\n",
    "        \"content\": response.content[0].text,\n",
    "    }\n",
    "])"
   ],
   "id": "70b081f66ce9bc02",
   "outputs": [
    {
     "data": {
      "text/plain": [
       "<IPython.core.display.Markdown object>"
      ],
      "text/markdown": "# Query Analysis and Recommendations\n\n## Explain Plan Summary\n- Query uses an index scan on `genres_1` index\n- Returns 4,405 documents\n- Examines 6,772 index keys and 5,715 documents\n- Execution time: 15ms on server side, 375ms on client side\n- Query includes a projection stage for `_id` and `title` fields\n- Uses multikey index due to `genres` being an array field\n\n## Performance Analysis\n1. **Index Usage**: \n   - Query effectively uses the `genres_1` index for the `$in` condition\n   - However, the `poster` existence check requires a document scan after index lookup\n   - Query examined more documents (5,715) than returned (4,405) due to filtering\n\n2. **Current Index Stats**:\n   - `genres_1` index is frequently used (144 ops)\n   - `genres_1_poster_1` compound index exists but wasn't chosen as winning plan\n\n## Recommendations\n\n1. **Index Optimization**:\n   ```javascript\n   { \"genres\": 1, \"poster\": 1 }  // Already exists but could be more effective\n   ```\n   Consider creating a sparse or partial index if many documents don't have `poster` field.\n\n2. **Query Optimization**:\n   - Consider changing `poster: {$exists: 'false'}` to `poster: null` if appropriate for your data model\n   - If possible, batch process results to reduce client-side execution time\n\n3. **Monitoring**:\n   - The text index (`cast_text_fullplot_text_genres_text_title_text`) shows 0 ops - consider removing if unused\n   - The `genres_1_poster_1` index shows 0 ops - evaluate if it's properly designed for your queries\n\n4. **Query Shape Optimization**:\n   - Consider adding a limit if you don't need all 4,405 documents\n   - Use projection as currently done to minimize data transfer\n\nThe significant difference between server execution time (15ms) and client execution time (375ms) suggests network transfer or client-side processing might be the bottleneck rather than index efficiency."
     },
     "metadata": {},
     "output_type": "display_data"
    }
   ],
   "execution_count": 48
  },
  {
   "metadata": {
    "ExecuteTime": {
     "end_time": "2025-02-06T20:35:55.342338Z",
     "start_time": "2025-02-06T20:35:55.340401Z"
    }
   },
   "cell_type": "code",
   "source": "follow_up_question = \"Why some indexes were considered but rejected for this query?\"",
   "id": "14547f85703cd885",
   "outputs": [],
   "execution_count": 49
  },
  {
   "metadata": {
    "ExecuteTime": {
     "end_time": "2025-02-06T20:36:12.261349Z",
     "start_time": "2025-02-06T20:35:59.168408Z"
    }
   },
   "cell_type": "code",
   "source": [
    "# Chat\n",
    "context.extend([\n",
    "    {\n",
    "        \"role\": \"user\",\n",
    "        \"content\": follow_up_question,\n",
    "    }\n",
    "])\n",
    "response = anthropic_client.messages.create(\n",
    "    max_tokens=1024,\n",
    "    messages=context,\n",
    "    model=\"claude-3-5-sonnet-latest\",\n",
    ")\n",
    "\n",
    "display(Markdown(response.content[0].text))\n",
    "\n",
    "context.extend([\n",
    "    {\n",
    "        \"role\": \"assistant\",\n",
    "        \"content\": response.content[0].text,\n",
    "    }\n",
    "])"
   ],
   "id": "f89a803b741d442a",
   "outputs": [
    {
     "data": {
      "text/plain": [
       "<IPython.core.display.Markdown object>"
      ],
      "text/markdown": "# Rejected Plan Analysis\n\nLet's analyze why the query planner rejected alternative plans, specifically looking at the `rejectedPlans` section from the explain output.\n\n## Rejected Plan Details\n```javascript\n{\n    'stage': 'PROJECTION_SIMPLE',\n    'inputStage': {\n        'stage': 'FETCH',\n        'filter': {'poster': {'$exists': True}},\n        'inputStage': {\n            'stage': 'IXSCAN',\n            'keyPattern': {'genres': 1, 'poster': 1},\n            'indexName': 'genres_1_poster_1'\n        }\n    }\n}\n```\n\n## Rejection Reasons\n\n1. **Performance Trial Results**:\n   - Winning plan score: 1.834910743801653\n   - Rejected plan score: 1.0002\n   - The query planner chose the simpler `genres_1` index because it performed better during the trial period\n\n2. **Trial Statistics Comparison**:\n   ```\n   Winning Plan (genres_1):\n   - nReturned: 101\n   - totalKeysExamined: 121\n   - totalDocsExamined: 121\n   \n   Rejected Plan (genres_1_poster_1):\n   - nReturned: 0\n   - totalKeysExamined: 121\n   - totalDocsExamined: 121\n   ```\n\n3. **Key Reasons for Rejection**:\n   - The compound index `genres_1_poster_1` didn't provide better selectivity\n   - The `$exists` condition on `poster` field couldn't effectively use the compound index\n   - The rejected plan returned 0 documents during trial period while the winning plan returned 101 documents\n\n## Understanding Index Selection\nThe MongoDB query planner:\n1. Generates candidate plans for each viable index\n2. Runs each plan on a subset of data\n3. Scores plans based on execution metrics\n4. Caches the winning plan for similar query shapes\n\nIn this case, even though `genres_1_poster_1` includes both fields in the query, it wasn't more efficient because:\n- The `$exists` operator doesn't benefit from index ordering\n- The additional index key in the compound index added overhead without improving selectivity\n- The simpler single-field index provided sufficient filtering with less overhead"
     },
     "metadata": {},
     "output_type": "display_data"
    }
   ],
   "execution_count": 50
  }
 ],
 "metadata": {
  "kernelspec": {
   "display_name": "Python 3 (ipykernel)",
   "language": "python",
   "name": "python3"
  },
  "language_info": {
   "codemirror_mode": {
    "name": "ipython",
    "version": 3
   },
   "file_extension": ".py",
   "mimetype": "text/x-python",
   "name": "python",
   "nbconvert_exporter": "python",
   "pygments_lexer": "ipython3",
   "version": "3.9.6"
  }
 },
 "nbformat": 4,
 "nbformat_minor": 5
}
