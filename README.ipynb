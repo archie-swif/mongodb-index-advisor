{
 "cells": [
  {
   "cell_type": "markdown",
   "id": "818d834cb3ada078",
   "metadata": {},
   "source": [
    "## MongoDB Index Advisor \n",
    "This notebook can be used to:\n",
    "- keep track of designed vs current indexes \n",
    "- get index recommendations from CLI \n",
    "- associate queries with indexes \n",
    "- get query explain plan \n",
    "- benchmark query end-to-end execution time \n",
    "- generate a user-friendly summary for query performance recommendations with a LLM\n",
    "\n",
    "## Setup\n",
    "\n",
    "### 1. Connect to MongoDB Cluster with PyMongo client\n",
    "\n",
    "#### - Set MongoDB cluster URI and credentials\n",
    "\n",
    "```\n",
    "MONGO_URI = \"mongodb+srv://<username>:<password>@cluster.host.mongodb.net/\"\n",
    "\n",
    "MONGO_URI = \"mongodb+srv://cluster.host.mongodb.net/?tls=true&tlsCertificateKeyFile=<path/to/client.pem>&authMechanism=MONGODB-X509\"\n",
    "```\n"
   ]
  },
  {
   "cell_type": "code",
   "execution_count": null,
   "id": "initial_id",
   "metadata": {
    "collapsed": true
   },
   "outputs": [],
   "source": [
    "# Test connectivity\n",
    "import os\n",
    "\n",
    "from dotenv import load_dotenv\n",
    "from pymongo import MongoClient\n",
    "\n",
    "load_dotenv()\n",
    "uri = os.getenv(\"MONGO_URI\")\n",
    "mongodb_client = MongoClient(uri)\n",
    "databases = mongodb_client.list_database_names()\n",
    "print(f\"Database list: {databases}\")"
   ]
  },
  {
   "cell_type": "markdown",
   "id": "db3dae96954628bc",
   "metadata": {},
   "source": [
    "### 2. Setup for MongoDB Atlas CLI\n",
    "\n",
    "#### - Install Atlas CLI\n",
    "\n",
    "https://www.mongodb.com/docs/atlas/cli/current/install-atlas-cli/\n",
    "\n",
    "\n",
    "#### - Set MongoDB Atlas API key\n",
    "\n",
    "https://www.mongodb.com/docs/atlas/configure-api-access-project/\n",
    "\n",
    "Recommended permission: `Project Observability Viewer`\n",
    "\n",
    "```\n",
    "MONGODB_ATLAS_PUBLIC_API_KEY = \"xxxxxxxx\"\n",
    "MONGODB_ATLAS_PRIVATE_API_KEY = \"xxxxxxxx-xxxx-xxxx-xxxx-xxxxxxxxxxxx\"\n",
    "```"
   ]
  },
  {
   "cell_type": "code",
   "execution_count": null,
   "id": "21c308b65922c7dd",
   "metadata": {},
   "outputs": [],
   "source": [
    "# Test connectivity\n",
    "from dotenv import load_dotenv\n",
    "load_dotenv()\n",
    "!atlas clusters list"
   ]
  },
  {
   "cell_type": "markdown",
   "id": "6f89e335ad8aef6f",
   "metadata": {},
   "source": [
    "### 3. Set Anthropic API key for Python SDK\n",
    "\n",
    "https://github.com/anthropics/anthropic-sdk-python\n",
    "\n",
    "```\n",
    "ANTHROPIC_API_KEY = \"xxxxxxxx\"\n",
    "```"
   ]
  },
  {
   "cell_type": "code",
   "execution_count": null,
   "id": "aee77cca1c6b8dff",
   "metadata": {},
   "outputs": [],
   "source": [
    "# Test connectivity\n",
    "from IPython.core.display import Markdown\n",
    "from anthropic import Anthropic\n",
    "from dotenv import load_dotenv\n",
    "\n",
    "load_dotenv()\n",
    "\n",
    "anthropic_client = Anthropic()\n",
    "context = [\n",
    "    {\n",
    "        \"role\": \"user\",\n",
    "        \"content\": \"Hello World!\",\n",
    "    }\n",
    "]\n",
    "response = anthropic_client.messages.create(\n",
    "    max_tokens=1024,\n",
    "    messages=context,\n",
    "    model=\"claude-3-5-sonnet-latest\",\n",
    ")\n",
    "\n",
    "display(Markdown(response.content[0].text))"
   ]
  }
 ],
 "metadata": {
  "kernelspec": {
   "display_name": "Python 3",
   "language": "python",
   "name": "python3"
  },
  "language_info": {
   "codemirror_mode": {
    "name": "ipython",
    "version": 2
   },
   "file_extension": ".py",
   "mimetype": "text/x-python",
   "name": "python",
   "nbconvert_exporter": "python",
   "pygments_lexer": "ipython2",
   "version": "2.7.6"
  }
 },
 "nbformat": 4,
 "nbformat_minor": 5
}
