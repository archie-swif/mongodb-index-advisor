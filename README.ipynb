{
 "cells": [
  {
   "cell_type": "markdown",
   "id": "818d834cb3ada078",
   "metadata": {},
   "source": [
    "## MongoDB Index Advisor \n",
    "This notebook can be used to:\n",
    "- keep track of designed vs current indexes \n",
    "- get index recommendations from Atlas CLI \n",
    "- associate queries with indexes \n",
    "- get getails from query explain plan \n",
    "- benchmark query end-to-end execution time \n",
    "- generate a user-friendly summary for query performance recommendations with a LLM \n",
    "- ask follow up question on recommendations \n",

    "\n",
    "## Setup\n",
    "\n",
    "### 1. Connect to MongoDB Cluster with PyMongo client\n",
    "\n",
    "#### - Set MongoDB cluster URI and credentials\n",
    "\n",
    "```\n",
    "MONGO_URI = \"mongodb+srv://<username>:<password>@cluster.host.mongodb.net/\"\n",
    "\n",
    "MONGO_URI = \"mongodb+srv://cluster.host.mongodb.net/?tls=true&tlsCertificateKeyFile=<path/to/client.pem>&authMechanism=MONGODB-X509\"\n",
    "```\n"
   ]
  },
  {
   "cell_type": "code",
   "id": "initial_id",
   "metadata": {
    "collapsed": true,
    "ExecuteTime": {
     "end_time": "2025-02-06T20:03:52.119516Z",
     "start_time": "2025-02-06T20:03:50.501341Z"
    }
   },
   "source": [
    "# Test connectivity\n",
    "import os\n",
    "\n",
    "from dotenv import load_dotenv\n",
    "from pymongo import MongoClient\n",
    "\n",
    "load_dotenv()\n",
    "uri = os.getenv(\"MONGO_URI\")\n",
    "mongodb_client = MongoClient(uri)\n",
    "databases = mongodb_client.list_database_names()\n",
    "print(f\"Database list: {databases}\")"
   ],
   "outputs": [
    {
     "name": "stdout",
     "output_type": "stream",
     "text": [
      "Database list: ['sample_airbnb', 'sample_analytics', 'sample_geospatial', 'sample_guides', 'sample_mflix', 'sample_restaurants', 'sample_supplies', 'sample_training', 'sample_weatherdata']\n"
     ]
    }
   ],
   "execution_count": 1
  },
  {
   "cell_type": "markdown",
   "id": "db3dae96954628bc",
   "metadata": {},
   "source": [
    "### 2. Setup for MongoDB Atlas CLI\n",
    "\n",
    "#### - Install Atlas CLI\n",
    "\n",
    "https://www.mongodb.com/docs/atlas/cli/current/install-atlas-cli/\n",
    "\n",
    "\n",
    "#### - Set MongoDB Atlas API key\n",
    "\n",
    "https://www.mongodb.com/docs/atlas/configure-api-access-project/\n",
    "\n",
    "Recommended permission: `Project Observability Viewer`\n",
    "\n",
    "```\n",
    "MONGODB_ATLAS_PUBLIC_API_KEY = \"xxxxxxxx\"\n",
    "MONGODB_ATLAS_PRIVATE_API_KEY = \"xxxxxxxx-xxxx-xxxx-xxxx-xxxxxxxxxxxx\"\n",
    "```\n",
    "\n",
    "Use project id from Atlas url: `https://cloud.mongodb.com/v2/<project-id>#/clusters`\n",
    "```\n",
    "MONGODB_ATLAS_PROJECT_ID = \"xxxxxxxxxxxxxxxxxxxxxxxx\"\n",
    "```\n"
   ]
  },
  {
   "cell_type": "code",
   "id": "21c308b65922c7dd",
   "metadata": {
    "ExecuteTime": {
     "end_time": "2025-02-06T20:09:35.295284Z",
     "start_time": "2025-02-06T20:09:34.219561Z"
    }
   },
   "source": [
    "# Test connectivity\n",
    "from dotenv import load_dotenv\n",
    "load_dotenv()\n",
    "!atlas clusters list"
   ],
   "outputs": [
    {
     "name": "stdout",
     "output_type": "stream",
     "text": [
      "ID                         NAME             MDB VER   STATE\r\n",
      "xxxxxxxxxxxxxxxxxxxxxxxx   echo             8.0.4     IDLE\r\n",
      "\r\n",
      "A new version of atlascli is available \"v1.37.0\"!\r\n",
      "To upgrade, see: https://dochub.mongodb.org/core/install-atlas-cli\r\n",
      "\r\n",
      "To disable this alert, run \"atlas config set skip_update_check true\"\r\n"
     ]
    }
   ],
   "execution_count": 4
  },
  {
   "cell_type": "markdown",
   "id": "6f89e335ad8aef6f",
   "metadata": {},
   "source": [
    "### 3. Set Anthropic API key for Python SDK\n",
    "\n",
    "https://github.com/anthropics/anthropic-sdk-python\n",
    "\n",
    "```\n",
    "ANTHROPIC_API_KEY = \"xxxxxxxx\"\n",
    "```"
   ]
  },
  {
   "cell_type": "code",
   "id": "aee77cca1c6b8dff",
   "metadata": {
    "ExecuteTime": {
     "end_time": "2025-02-06T20:09:40.722641Z",
     "start_time": "2025-02-06T20:09:39.536514Z"
    }
   },
   "source": [
    "# Test connectivity\n",
    "from IPython.core.display import Markdown\n",
    "from anthropic import Anthropic\n",
    "from dotenv import load_dotenv\n",
    "\n",
    "load_dotenv()\n",
    "\n",
    "anthropic_client = Anthropic()\n",
    "context = [\n",
    "    {\n",
    "        \"role\": \"user\",\n",
    "        \"content\": \"Hello World!\",\n",
    "    }\n",
    "]\n",
    "response = anthropic_client.messages.create(\n",
    "    max_tokens=1024,\n",
    "    messages=context,\n",
    "    model=\"claude-3-5-sonnet-latest\",\n",
    ")\n",
    "\n",
    "display(Markdown(response.content[0].text))"
   ],
   "outputs": [
    {
     "data": {
      "text/plain": [
       "<IPython.core.display.Markdown object>"
      ],
      "text/markdown": "Hi there! How can I help you today?"
     },
     "metadata": {},
     "output_type": "display_data"
    }
   ],
   "execution_count": 5
  }
 ],
 "metadata": {
  "kernelspec": {
   "display_name": "Python 3",
   "language": "python",
   "name": "python3"
  },
  "language_info": {
   "codemirror_mode": {
    "name": "ipython",
    "version": 2
   },
   "file_extension": ".py",
   "mimetype": "text/x-python",
   "name": "python",
   "nbconvert_exporter": "python",
   "pygments_lexer": "ipython2",
   "version": "2.7.6"
  }
 },
 "nbformat": 4,
 "nbformat_minor": 5
}
